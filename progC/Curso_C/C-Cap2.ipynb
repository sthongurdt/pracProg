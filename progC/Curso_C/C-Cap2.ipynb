{
 "cells": [
  {
   "cell_type": "markdown",
   "metadata": {},
   "source": [
    "# Capitulo 2 \n",
    "\n",
    "## Condicionales \n",
    "\n",
    "Los condicionales se usan para realizar diferentes cálculos dependiendo de si una condición se evalúa como verdadera o falsa. Hay seis operadores relacionales que se pueden usar para formar una expresión booleana, que devuelve verdadero o falso: < menor que, <= menor igual que, > mayor que, >= mayor igual que, == igual a, != diferente a. Una expresión que se evalúa como un valor distinto de cero se considera verdadera. La sentencia if puede incluir una cláusula else opcional que ejecuta sentencias cuando una expresión es falsa. Otra forma de formar una instrucción if-else es usando el operador ?. \n",
    "\n",
    "    #include <stdio.h> \n",
    "    int main() { \n",
    "        int in_stock = 20; \n",
    "        if (in_stock){ \n",
    "            printf(\"Orden recibida.\\n\"); \n",
    "        }\n",
    "        int score = 70;\n",
    "        if (score >= 90){ \n",
    "            printf(\"Top 10%%.\\n\"); \n",
    "        }else{ \n",
    "            printf(\"Menos de 90.\\n\"); \n",
    "        } \n",
    "        int y = 4, x = 3; \n",
    "        y = (x >= 5) ?  5 : x; \n",
    "        /* Esto es equivalente a: \n",
    "        if (x >= 5) \n",
    "            y = 5; \n",
    "        else \n",
    "            y = x; \n",
    "        */\n",
    "        printf(\"Valor de y: %d\\n\", y);\n",
    "        return 0; \n",
    "    } \n",
    "Una instrucción if puede incluir otra instrucción if para formar una instrucción anidada. Anidar un if permite que una decisión se base en requisitos adicionales. Cuando se necesita una decisión entre tres o más acciones, se puede usar la declaración else if. \n",
    "\n",
    "    #include <stdio.h> \n",
    "    int main() { \n",
    "        int score = 89;   \n",
    "        if (score >= 90) \n",
    "            printf(\"%s\", \"Top 10% \\n\"); \n",
    "        else if (score >= 80) \n",
    "            printf(\"%s\", \"Top 20% \\n\"); \n",
    "        else if (score > 75) \n",
    "            printf(\"%s\", \"Pasaste.\\n\"); \n",
    "        else \n",
    "            printf(\"%s\", \"No pasaste.\\n\"); \n",
    "        return 0;\n",
    "    } "
   ]
  },
  {
   "cell_type": "code",
   "execution_count": 1,
   "metadata": {},
   "outputs": [
    {
     "name": "stdout",
     "output_type": "stream",
     "text": [
      "Orden recibida.\n",
      "Menos de 90.\n",
      "Valor de y: 3\n"
     ]
    }
   ],
   "source": [
    "!gcc EC201.c -o prb && ./prb"
   ]
  },
  {
   "cell_type": "code",
   "execution_count": 2,
   "metadata": {},
   "outputs": [
    {
     "name": "stdout",
     "output_type": "stream",
     "text": [
      "Top 20% \n"
     ]
    }
   ],
   "source": [
    "!gcc EC202.c -o prb && ./prb"
   ]
  },
  {
   "cell_type": "markdown",
   "metadata": {},
   "source": [
    "## Declaración switch \n",
    "La instrucción switch ramifica el control del programa haciendo coincidir el resultado de una expresión con un valor de caso constante. El caso default se ejecuta cuando no se realizan otras coincidencias. Se necesita una declaración de break en cada caso para bifurcarse al final de la declaración switch. El switch toma la forma: \n",
    "\n",
    "    #include <stdio.h> \n",
    "    int main() { \n",
    "        int num = 3; \n",
    "        switch (num) { \n",
    "            case 1: \n",
    "                printf(\"Uno\\n\"); \n",
    "                break;  \n",
    "            case 2: \n",
    "                printf(\"Dos\\n\"); \n",
    "                break;  \n",
    "            case 3: \n",
    "                printf(\"Tres\\n\"); \n",
    "                break;  \n",
    "            default: \n",
    "                printf(\"No es 1, 2, o 3.\\n\"); \n",
    "        } \n",
    "        return 0; \n",
    "    } "
   ]
  },
  {
   "cell_type": "code",
   "execution_count": 3,
   "metadata": {},
   "outputs": [
    {
     "name": "stdout",
     "output_type": "stream",
     "text": [
      "Tres\n"
     ]
    }
   ],
   "source": [
    "!gcc EC203.c -o prb && ./prb"
   ]
  },
  {
   "cell_type": "markdown",
   "metadata": {},
   "source": [
    "## Operadores Lógico \n",
    "Operadores lógicos && y || se utilizan para formar una expresión booleana compuesta que prueba múltiples condiciones. Un tercer operador lógico es !. Se utiliza para invertir el estado de una expresión booleana. \n",
    "\n",
    "    #include <stdio.h> \n",
    "    int main() { \n",
    "        int n = 42; \n",
    "        //--------------Operacion AND \n",
    "        if (n > 0 && n <= 100) \n",
    "            printf(\"Rango (1 - 100).\\n\"); \n",
    "        //--------------Operacion OR \n",
    "        char p = 'X';\n",
    "        if (p == 'x' || p == 'X') \n",
    "            printf(\"Valor de número romano 10.\\n\"); \n",
    "        //--------------Operacion AND-OR \n",
    "        if (n == 999 || (n > 0 && n <= 100)) \n",
    "            printf(\"Entrada válida.\\n\"); \n",
    "        //--------------Operacion NOT \n",
    "        char c = 'V'; \n",
    "        if (!(c == 'x' || c == 'X')) \n",
    "            printf(\"El número romano no es 10.\\n\"); \n",
    "        //--------------\n",
    "        int x = 3; \n",
    "        int y = 8; \n",
    "        if(!(x > 2 || y < 0))  \n",
    "            printf(\"true\"); \n",
    "        else  \n",
    "            printf(\"false\");    \n",
    "        return 0;\n",
    "    } "
   ]
  },
  {
   "cell_type": "code",
   "execution_count": 4,
   "metadata": {},
   "outputs": [
    {
     "name": "stdout",
     "output_type": "stream",
     "text": [
      "Rango (1-100).\n",
      "Valor de número romano 10.\n",
      "Entrada válida.\n",
      "El número romano no es 10.\n",
      "false"
     ]
    }
   ],
   "source": [
    "!gcc EC204.c -o prb && ./prb"
   ]
  },
  {
   "cell_type": "markdown",
   "metadata": {},
   "source": [
    "## Bucle while \n",
    "Es una estructura de bucle porque ejecuta declaraciones repetidamente mientras una expresión es verdadera, repitiéndose una y otra vez. La expresión se evalúa como verdadera o falsa, y las declaraciones pueden ser una sola declaración o un bloque de código encerrado entre llaves {}. \n",
    "\n",
    "    #include <stdio.h> \n",
    "    int main() { \n",
    "        int count = 1; \n",
    "        while (count < 8) { \n",
    "            printf(\"Cuento = %d\\n\", count); \n",
    "            count++; \n",
    "        } \n",
    "        return 0; \n",
    "    } \n",
    "El ciclo do-while ejecuta las declaraciones del ciclo antes de evaluar la expresión para determinar si el ciclo debe repetirse. Tenga en cuenta el punto y coma después de la instrucción while. El ciclo do-while siempre se ejecuta al menos una vez, incluso si la expresión se evalúa como falsa. \n",
    "\n",
    "    #include <stdio.h> \n",
    "    int main() { \n",
    "        int count = 1; \n",
    "        do { \n",
    "            printf(\"Cuento = %d\\n\", count); \n",
    "            count++; \n",
    "        } while (count < 8); \n",
    "        return 0; \n",
    "    } \n",
    "La declaración de break se introdujo para su uso en la declaración de switch. También es útil para salir inmediatamente de un bucle. Cuando desee permanecer en el ciclo, pero pase a la siguiente iteración, use la instrucción continue. \n",
    "\n",
    "    #include <stdio.h> \n",
    "    int main() { \n",
    "        int num = 5; \n",
    "        while (num > 0) { \n",
    "            if (num == 3) \n",
    "            break; \n",
    "            printf(\"%d\\n\", num); \n",
    "            num--; \n",
    "        }\n",
    "        printf(\"//----------//\\n\");     \n",
    "        int num2 = 5; \n",
    "        while (num2 > 0) { \n",
    "            num2--; \n",
    "            if (num2 == 3) \n",
    "                continue; \n",
    "            printf(\"%d\\n\", num2); \n",
    "        } \n",
    "        return 0; \n",
    "    }"
   ]
  },
  {
   "cell_type": "code",
   "execution_count": 10,
   "metadata": {},
   "outputs": [
    {
     "name": "stdout",
     "output_type": "stream",
     "text": [
      "Cuento = 1\n",
      "Cuento = 2\n",
      "Cuento = 3\n",
      "Cuento = 4\n",
      "Cuento = 5\n",
      "Cuento = 6\n",
      "Cuento = 7\n"
     ]
    }
   ],
   "source": [
    "!gcc EC205.c -o prb && ./prb"
   ]
  },
  {
   "cell_type": "code",
   "execution_count": 11,
   "metadata": {},
   "outputs": [
    {
     "name": "stdout",
     "output_type": "stream",
     "text": [
      "Cuento = 1\n",
      "Cuento = 2\n",
      "Cuento = 3\n",
      "Cuento = 4\n",
      "Cuento = 5\n",
      "Cuento = 6\n",
      "Cuento = 7\n"
     ]
    }
   ],
   "source": [
    "!gcc EC206.c -o prb && ./prb"
   ]
  },
  {
   "cell_type": "code",
   "execution_count": 12,
   "metadata": {},
   "outputs": [
    {
     "name": "stdout",
     "output_type": "stream",
     "text": [
      "5\n",
      "4\n",
      "//----------//\n",
      "4\n",
      "2\n",
      "1\n",
      "0\n"
     ]
    }
   ],
   "source": [
    "!gcc EC207.c -o prb && ./prb"
   ]
  },
  {
   "cell_type": "markdown",
   "metadata": {},
   "source": [
    "## Bucle for \n",
    "La instrucción for es una estructura de bucle que ejecuta instrucciones un número fijo de veces. Consta de tres partes: for (initvalue; condition; increment). initvalue es un contador establecido en un valor inicial. Esta parte del bucle for se realiza solo una vez. condition es una expresión booleana que compara el contador con un valor antes de cada iteración del ciclo, deteniendo el ciclo cuando se devuelve falso. increment aumenta (o disminuye) el contador en un valor establecido. \n",
    "\n",
    "    #include <stdio.h> \n",
    "    int main() { \n",
    "        int i; \n",
    "        int max = 10; \n",
    "        for (i = 0; i < max; i++) { \n",
    "            printf(\"%d\\n\", i); \n",
    "        } \n",
    "        return 0;\n",
    "    } \n",
    "Los bucles también se pueden anidar. Al escribir un programa de esta manera, hay un bucle externo y un bucle interno. Para cada iteración del bucle externo, el bucle interno repite todo su ciclo. \n",
    "\n",
    "    #include <stdio.h> \n",
    "    int main() { \n",
    "        int i, j, table = 10, max = 12;   \n",
    "        for (i = 1; i <= table; i++) { \n",
    "            for (j=0; j <= max; j++) { \n",
    "                printf(\"%d x %d = %d\\n\", i, j, i*j); \n",
    "            } \n",
    "            printf(\"\\n\"); /* línea en blanco entre tablas */ \n",
    "        } \n",
    "        return 0; \n",
    "    } "
   ]
  },
  {
   "cell_type": "code",
   "execution_count": 13,
   "metadata": {},
   "outputs": [
    {
     "name": "stdout",
     "output_type": "stream",
     "text": [
      "0\n",
      "1\n",
      "2\n",
      "3\n",
      "4\n",
      "5\n",
      "6\n",
      "7\n",
      "8\n",
      "9\n"
     ]
    }
   ],
   "source": [
    "!gcc EC208.c -o prb && ./prb"
   ]
  },
  {
   "cell_type": "code",
   "execution_count": 14,
   "metadata": {},
   "outputs": [
    {
     "name": "stdout",
     "output_type": "stream",
     "text": [
      "1 x 0 = 0\n",
      "1 x 1 = 1\n",
      "1 x 2 = 2\n",
      "1 x 3 = 3\n",
      "1 x 4 = 4\n",
      "1 x 5 = 5\n",
      "1 x 6 = 6\n",
      "1 x 7 = 7\n",
      "1 x 8 = 8\n",
      "1 x 9 = 9\n",
      "1 x 10 = 10\n",
      "1 x 11 = 11\n",
      "1 x 12 = 12\n",
      "\n",
      "2 x 0 = 0\n",
      "2 x 1 = 2\n",
      "2 x 2 = 4\n",
      "2 x 3 = 6\n",
      "2 x 4 = 8\n",
      "2 x 5 = 10\n",
      "2 x 6 = 12\n",
      "2 x 7 = 14\n",
      "2 x 8 = 16\n",
      "2 x 9 = 18\n",
      "2 x 10 = 20\n",
      "2 x 11 = 22\n",
      "2 x 12 = 24\n",
      "\n",
      "3 x 0 = 0\n",
      "3 x 1 = 3\n",
      "3 x 2 = 6\n",
      "3 x 3 = 9\n",
      "3 x 4 = 12\n",
      "3 x 5 = 15\n",
      "3 x 6 = 18\n",
      "3 x 7 = 21\n",
      "3 x 8 = 24\n",
      "3 x 9 = 27\n",
      "3 x 10 = 30\n",
      "3 x 11 = 33\n",
      "3 x 12 = 36\n",
      "\n",
      "4 x 0 = 0\n",
      "4 x 1 = 4\n",
      "4 x 2 = 8\n",
      "4 x 3 = 12\n",
      "4 x 4 = 16\n",
      "4 x 5 = 20\n",
      "4 x 6 = 24\n",
      "4 x 7 = 28\n",
      "4 x 8 = 32\n",
      "4 x 9 = 36\n",
      "4 x 10 = 40\n",
      "4 x 11 = 44\n",
      "4 x 12 = 48\n",
      "\n",
      "5 x 0 = 0\n",
      "5 x 1 = 5\n",
      "5 x 2 = 10\n",
      "5 x 3 = 15\n",
      "5 x 4 = 20\n",
      "5 x 5 = 25\n",
      "5 x 6 = 30\n",
      "5 x 7 = 35\n",
      "5 x 8 = 40\n",
      "5 x 9 = 45\n",
      "5 x 10 = 50\n",
      "5 x 11 = 55\n",
      "5 x 12 = 60\n",
      "\n",
      "6 x 0 = 0\n",
      "6 x 1 = 6\n",
      "6 x 2 = 12\n",
      "6 x 3 = 18\n",
      "6 x 4 = 24\n",
      "6 x 5 = 30\n",
      "6 x 6 = 36\n",
      "6 x 7 = 42\n",
      "6 x 8 = 48\n",
      "6 x 9 = 54\n",
      "6 x 10 = 60\n",
      "6 x 11 = 66\n",
      "6 x 12 = 72\n",
      "\n",
      "7 x 0 = 0\n",
      "7 x 1 = 7\n",
      "7 x 2 = 14\n",
      "7 x 3 = 21\n",
      "7 x 4 = 28\n",
      "7 x 5 = 35\n",
      "7 x 6 = 42\n",
      "7 x 7 = 49\n",
      "7 x 8 = 56\n",
      "7 x 9 = 63\n",
      "7 x 10 = 70\n",
      "7 x 11 = 77\n",
      "7 x 12 = 84\n",
      "\n",
      "8 x 0 = 0\n",
      "8 x 1 = 8\n",
      "8 x 2 = 16\n",
      "8 x 3 = 24\n",
      "8 x 4 = 32\n",
      "8 x 5 = 40\n",
      "8 x 6 = 48\n",
      "8 x 7 = 56\n",
      "8 x 8 = 64\n",
      "8 x 9 = 72\n",
      "8 x 10 = 80\n",
      "8 x 11 = 88\n",
      "8 x 12 = 96\n",
      "\n",
      "9 x 0 = 0\n",
      "9 x 1 = 9\n",
      "9 x 2 = 18\n",
      "9 x 3 = 27\n",
      "9 x 4 = 36\n",
      "9 x 5 = 45\n",
      "9 x 6 = 54\n",
      "9 x 7 = 63\n",
      "9 x 8 = 72\n",
      "9 x 9 = 81\n",
      "9 x 10 = 90\n",
      "9 x 11 = 99\n",
      "9 x 12 = 108\n",
      "\n",
      "10 x 0 = 0\n",
      "10 x 1 = 10\n",
      "10 x 2 = 20\n",
      "10 x 3 = 30\n",
      "10 x 4 = 40\n",
      "10 x 5 = 50\n",
      "10 x 6 = 60\n",
      "10 x 7 = 70\n",
      "10 x 8 = 80\n",
      "10 x 9 = 90\n",
      "10 x 10 = 100\n",
      "10 x 11 = 110\n",
      "10 x 12 = 120\n",
      "\n"
     ]
    }
   ],
   "source": [
    "!gcc EC209.c -o prb && ./prb"
   ]
  },
  {
   "cell_type": "code",
   "execution_count": null,
   "metadata": {},
   "outputs": [],
   "source": []
  }
 ],
 "metadata": {
  "kernelspec": {
   "display_name": "Python 3",
   "language": "python",
   "name": "python3"
  },
  "language_info": {
   "codemirror_mode": {
    "name": "ipython",
    "version": 3
   },
   "file_extension": ".py",
   "mimetype": "text/x-python",
   "name": "python",
   "nbconvert_exporter": "python",
   "pygments_lexer": "ipython3",
   "version": "3.7.4"
  }
 },
 "nbformat": 4,
 "nbformat_minor": 4
}
