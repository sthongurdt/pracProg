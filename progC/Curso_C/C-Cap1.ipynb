{
 "cells": [
  {
   "cell_type": "markdown",
   "metadata": {},
   "source": [
    "# Capítulo 1.\n",
    "\n",
    "## Que es C.\n",
    "\n",
    "**C es un lenguaje de propósito general** que ha existido casi 50 años. La versatilidad de C se debe a su diseño, al ser un lenguaje de bajo nivel, se relaciona estrechamente con la forma en que funciona la maquina sin perder simplicidad en el aprendizaje. C se ha usado para escribir casi todo para los Sistemas Operativos (OS), programas como Python, Git, base de datos Oracle entre otros.  \n",
    "\n",
    "Nota: Entender cómo trabaja la memoria del computador es importante para la programación en el lenguaje C. "
   ]
  },
  {
   "cell_type": "markdown",
   "metadata": {},
   "source": [
    "## Hola, Mundo!\n",
    "\n",
    "Casi siempre que aprendemos un lenguaje de programación, el programa para iniciar es un “Hola, mundo!”:\n",
    "    \n",
    "    #include<stdio.h>\n",
    "    int main(){\n",
    "        printf(“Hola, mundo!\\n”); \n",
    "        return 0; \n",
    "    }\n",
    "\n",
    "Entendamos cada línea del código: \n",
    "\n",
    "**#Include<stdio.h>** La función usada generalmente para definir las salidas esta en stdio.h. Para poder usar la función prinf debemos incluir el archivo que la contiene, a esto se le llama header file.  \n",
    "**int main()** La función main() es el punto de entrada a un programa, los {} indican el inicio y el fin de una función (code block), lo que se coloque internamente dentro de {} determina que hará cuando se ejecute.  \n",
    "**printf** Es la función usada para generar la salida.  \n",
    "**\\n** Genera una nueva línea.  \n",
    "**;** Indica el final de la declaración.  \n",
    "**return 0;** Esta declaración termina la función main(), el numero 0 indica que el programa se ha ejecutado con éxito, cualquier otro número indicara un fallo.\n",
    "\n",
    "**Nota:** _int main(int argc, char** argv[])_ Los argumentos pasados en la línea de comandos a un programa son recibidos por la función main(). Existen dos variables predefinidas dentro del lenguaje que reciben los argumentos que se pasan al ejecutar un programa:\n",
    "\n",
    "- **argc**, de tipo entero, contiene el número de argumentos que se han introducido, la variable argc como mínimo valdrá 1, ya que el nombre del programa se toma como primer argumento, almacenado con argv[0], que es el primer elemento de la matriz. Cada elemento del vector apunta a un argumento de la línea comandos. Todos los argumentos de la línea de comandos son cadenas.\n",
    "- **argv**, de tipo array, vector (arreglo) de punteros a caracteres, argv contiene los argumentos que se han pasado desde el sistema operativo al invocar el programa.\n",
    "\n",
    "En la siguiente línea se compilara y ejecutará el ejemplo:  "
   ]
  },
  {
   "cell_type": "code",
   "execution_count": 1,
   "metadata": {},
   "outputs": [
    {
     "name": "stdout",
     "output_type": "stream",
     "text": [
      "Hola, mundo!\n"
     ]
    }
   ],
   "source": [
    "!gcc EC101.c -o prb && ./prb"
   ]
  },
  {
   "cell_type": "markdown",
   "metadata": {},
   "source": [
    "## Tipos de Datos \n",
    "\n",
    "C soporta los siguientes tipos de datos básicos: \n",
    "\n",
    "**int:** todos los números enteros.   \n",
    "**float:** coma flotante, todos los números con parte fraccional.   \n",
    "**double:** valores de coma flotante de doble precisión.   \n",
    "**char:** solo un carácter.   \n",
    "\n",
    "La cantidad de almacenamiento requerido para cada uno de estos tipos varia según la plataforma, C tiene un operador de tamaño (sizeof) que proporciona los requisitos de memoria para un tipo de dato. \n",
    "\n",
    "    #include <stdio.h> \n",
    "    int main(){ \n",
    "        printf(“int: %ld \\n”, sizeof(int)); \n",
    "        printf(“float: %ld \\n”, sizeof(float)); \n",
    "        printf(“double: %ld \\n”, sizeof(double)); \n",
    "        printf(“char: %ld \\n”, sizeof(char)); \n",
    "        return 0; \n",
    "    }\n",
    "La salida del programa muestra el tamaño correspondiente en bytes para cada tipo de dato, la función **printf** para este programa tiene dos argumentos, el primero es la salida **string** con un formato especial (%ld), el siguiente argumento devuelve el valor de **sizeof**. En la salida final, **%ld** (para los decimales largos) es reemplazado por el valor en el segundo argumento. \n",
    "**Nota:** C no tiene un tipo booleano, los especificadores de formato también se denominan especificadores de conversión, la función prinf puede tener múltiples especificadores de formato con argumentos correspondientes para reemplazar los especificadores de conversión.\n",
    "\n",
    "En la siguiente línea se compilara y ejecutará el ejemplo: "
   ]
  },
  {
   "cell_type": "code",
   "execution_count": 2,
   "metadata": {},
   "outputs": [
    {
     "name": "stdout",
     "output_type": "stream",
     "text": [
      "int: 4 \n",
      "float: 4 \n",
      "double: 8 \n",
      "char: 1 \n"
     ]
    }
   ],
   "source": [
    "!gcc EC102.c -o prb && ./prb"
   ]
  },
  {
   "cell_type": "markdown",
   "metadata": {},
   "source": [
    "## Variables \n",
    "\n",
    "Una variable es el nombre para un espacio en memoria, el nombre de la variable (identifer) debe comenzar con una letra o un guion bajo y puede componerse de letras, números, etc. Existen diferentes convenciones, usualmente se usa “_” para separar palabras (soy_yo), las variables deben ser declaradas como un tipo de dato antes de ser usadas a esto se le llama declaración de asignación. Se puede declarar y asignar una variable al tiempo, además de definir variables de diferentes tipos, haciendo una operación matemática y mostrar los resultados: \n",
    "\n",
    "    #include <stdio.h> \n",
    "    int main(){ \n",
    "        float salario = 56.23; \n",
    "        char letra = ‘Z’; \n",
    "        int a, b; \n",
    "        a = 8; \n",
    "        b = 34; \n",
    "        int c = a+b; \n",
    "        printf(“c %d \\n”, c); \n",
    "        printf(“salario %f \\n”, salario); \n",
    "        printf(“letra %c \\n”, letra); \n",
    "        return 0; \n",
    "    } \n",
    "Como se puede ver, se puede declarar múltiples variables en una sola línea separándola con una “,”, cabe resaltar el especificador de formato “%f” para float y “%c” para char. \n",
    "\n",
    "**Nota:** En el lenguaje C se hace diferencia entre mayúsculas y minúsculas, así que “soy_yo” es una variable diferente a “Soy_yo”.\n",
    "\n",
    "En la siguiente línea se compilara y ejecutará el ejemplo: "
   ]
  },
  {
   "cell_type": "code",
   "execution_count": 2,
   "metadata": {},
   "outputs": [
    {
     "name": "stdout",
     "output_type": "stream",
     "text": [
      "c 42 \n",
      "salario 56.230000 \n",
      "letra Z \n"
     ]
    }
   ],
   "source": [
    "!gcc EC103.c -o prb && ./prb"
   ]
  },
  {
   "cell_type": "markdown",
   "metadata": {},
   "source": [
    "## Constantes \n",
    "\n",
    "Una constante almacena un valor que no puede ser cambiado después de su asignación inicial, al usar nombres significativos, el código es más fácil de comprender, para diferenciar las variables de las constantes se recomienda escribirlas en mayúscula. Una forma de definir una constante es mediante la palabra const (si se asigna otro valor durante la ejecución del programa se genera un error).  \n",
    "\n",
    "Otra manera de definir una constante es con #define, #define usa macros para definir el valor de un constante. \n",
    "\n",
    "    #include <stdio.h>  \n",
    "    #define EULER 2.718281 \n",
    "    int main(){  \n",
    "        const double PI = 3.141592;  \n",
    "        printf(\"Pi = %f \\n\", PI); \n",
    "        printf(\"Euler = %f \\n\", EULER); \n",
    "        return 0;  \n",
    "    } \n",
    "La diferencia entre const y #define es que el primero usa memoria y el segundo no.\n",
    "\n",
    "En la siguiente línea se compilara y ejecutará el ejemplo: "
   ]
  },
  {
   "cell_type": "code",
   "execution_count": 3,
   "metadata": {},
   "outputs": [
    {
     "name": "stdout",
     "output_type": "stream",
     "text": [
      "Pi = 3.141592 \n",
      "Euler = 2.718281 \n"
     ]
    }
   ],
   "source": [
    "!gcc EC104.c -o prb && ./prb"
   ]
  },
  {
   "cell_type": "markdown",
   "metadata": {},
   "source": [
    "## Formato de Entrada \n",
    "\n",
    "La función scanf() es usada para asignar una entrada de variables. La función escanea la entrada de acuerdo con los especificadores de formato. Si la entrada no se puede convertir, la asignación no se realiza. Scanf() espera la entrada y luego realiza la asignación: \n",
    "\n",
    "    #include <stdio.h>\n",
    "    int main(){  \n",
    "        int x;\n",
    "        float y; \n",
    "        char c[20];\n",
    "        scanf(\"%d %f %s\", &x, &y, c); \n",
    "        printf(\"%d %f %s\\n\", x, y, c); \n",
    "        return 0; \n",
    "    } \n",
    "Los especificadores de formato comienzan con **%**, un especificador puede incluir varias opciones: **%[*][max_field]conversion character**  \n",
    "__*__ Salta el campo de entrada,  \n",
    "**max_field** Da el máximo número de caracteres asignados al campo de entrada,  \n",
    "**conversion character** Convierte el argumento: d decimal, c carácter, s string, f flotante, x hexadecimal. \n",
    "\n",
    "En la siguiente línea se compilara y ejecutará el ejemplo: "
   ]
  },
  {
   "cell_type": "code",
   "execution_count": 9,
   "metadata": {},
   "outputs": [
    {
     "name": "stdout",
     "output_type": "stream",
     "text": [
      "/bin/sh: 12: No such file or directory\n"
     ]
    }
   ],
   "source": [
    "## compilar en terminal\n",
    "!gcc EC105.c -o prb && ./prb"
   ]
  },
  {
   "cell_type": "markdown",
   "metadata": {},
   "source": [
    "## Formato de Salida \n",
    "\n",
    "La función **prinf()** la usamos en nuestro primer programa, esta función puede crear una cadena de que puede incluir salidas que generan caracteres especiales y especificadores de formato que reemplazan los valores. Las sentencias de salida comienzan con un \\:  \n",
    "**\\n** nueva línea  \n",
    "**\\t** pestaña horizontal  \n",
    "**\\\\** barra invertida  \n",
    "**\\b** retroceso  \n",
    "**\\'** una frase  \n",
    "**\\\"** comilla doble  \n",
    "\n",
    "    #include <stdio.h> \n",
    "    int main() { \n",
    "        printf(\"El árbol tiene %d manzanas.\\n\", 22); /* salida: el árbol tiene 22 manzanas. */ \n",
    "        printf(\"\\\"Hola mundo!\\\"\\n\"); /* salida: \"Hola mundo!\" */ \n",
    "        printf(\"Color: %s, Numero: %d, flotante: %5.2f \\n\", \"red\", 42, 3.14159); /* Color: red, Numero: 42, flotante:  3.14  */ \n",
    "        printf(\"Pi = %3.2f \\n\", 3.14159); /* Pi = 3.14 */ \n",
    "        printf(\"Pi = %8.5f \\n\", 3.14159); /* Pi = 3.14159 */ \n",
    "        printf(\"Pi = %-8.5f \\n\", 3.14159); /* Pi = 3.14159 */ \n",
    "        printf(\"Hay %d %s en el árbol. \\n\", 22, \"manzanas\"); /* Hay 22 manzanas en el árbol. */ \n",
    "        return 0;\n",
    "    } \n",
    "Los especificadores de formato comienzan con %, un especificador puede incluir varias opciones: **%[-][width].[precision]conversion character**, la opción **–** especifica la alineación izquierda de los datos, **width** proporciona el número mínimo de caracteres para los datos, **precision** especifica la cantidad de decimales después de la coma(punto), si se usa s, la precisión determina el número de caracteres a imprimir. \n",
    "\n",
    "En la siguiente línea se compilara y ejecutará el ejemplo: "
   ]
  },
  {
   "cell_type": "code",
   "execution_count": 6,
   "metadata": {},
   "outputs": [
    {
     "name": "stdout",
     "output_type": "stream",
     "text": [
      "El árbol tiene 22 manzanas.\n",
      "\"Hola mundo!\"\n",
      "Color: red, Numero: 42, flotante:  3.14 \n",
      "Pi = 3.14 \n",
      "Pi =  3.14159 \n",
      "Pi = 3.14159  \n",
      "Hay 22 manzanas en el árbol. \n"
     ]
    }
   ],
   "source": [
    "!gcc EC106.c -o prb && ./prb"
   ]
  },
  {
   "cell_type": "markdown",
   "metadata": {},
   "source": [
    "## Comentarios \n",
    "\n",
    "Los comentarios son información explicativa para beneficiar al lector del código. El compilador ignora los comentarios, por lo que no tienen ningún efecto en un programa. Un comentario comienza con /* y termina con */ y puede estar en cualquier parte del código. \n",
    "\n",
    "    #include <stdio.h> \n",
    "    /* Un simple programa en C\n",
    "     *  Version 1.0 \n",
    "     */ \n",
    "    int main() { \n",
    "        /* Dar salida a una cadena */ \n",
    "        printf(\"Hello World!\"); \n",
    "        return 0; \n",
    "    } \n",
    "C ++ introdujo un comentario de barra doble // como una forma de comentar líneas simples. Algunos compiladores de C también admiten este estilo de comentario. \n",
    "\n",
    "En la siguiente línea se compilara y ejecutará el ejemplo:"
   ]
  },
  {
   "cell_type": "code",
   "execution_count": 7,
   "metadata": {},
   "outputs": [
    {
     "name": "stdout",
     "output_type": "stream",
     "text": [
      "Hello World!"
     ]
    }
   ],
   "source": [
    "!gcc EC107.c -o prb && ./prb"
   ]
  },
  {
   "cell_type": "markdown",
   "metadata": {},
   "source": [
    "## Operadores aritméticos \n",
    "\n",
    "C admite operadores aritméticos + (suma), - (sustracción), * (multiplicación), / (división) y % (división de módulo). Los operadores a menudo se usan para formar una expresión numérica como 10 + 5, las expresiones numéricas se usan a menudo en las declaraciones de asignación. \n",
    "\n",
    "    #include <stdio.h> \n",
    "    /// Programa\n",
    "    int main() { \n",
    "        int length = 10, width = 5, area; \n",
    "        area = length * width; \n",
    "        printf(\"%d \\n\", area);  /* 50 */ \n",
    "        //---------------------------------- \n",
    "        int i1 = 10, i2 = 3, cociente, resto; \n",
    "        float f1 = 4.2, f2 = 2.5, result; \n",
    "        quotient = i1 / i2;  // 3 \n",
    "        remainder = i1 % i2;  // 1 \n",
    "        result = f1 / f2;  // 1.68 \n",
    "        printf(\"%d %d %f \\n\", cociente, resto, result); \n",
    "        //---------------------------------- \n",
    "        return 0; \n",
    "    } \n",
    "\n",
    "C tiene dos operadores de división: **/** y **%**. **/** funciona de manera diferente según los tipos de datos. Cuando ambos operandos son tipos de datos int, la división de enteros, también llamada división truncada, elimina cualquier resto para dar como resultado un entero. Cuando uno o ambos operandos son números reales (flotante o doble), el resultado es un número real. **%** devuelve solo el resto de la división de enteros. Es útil para muchos algoritmos, incluida la recuperación de dígitos de un número. El módulo no se puede realizar en flotantes o dobles. \n",
    "\n",
    "C evalúa una expresión numérica basada en la precedencia del operador. Los **+** y **-** son iguales en precedencia, al igual que __*__, **/** y **%**. Pero *, / y % se realizan primero en orden de izquierda a derecha y luego + y -, también en orden de izquierda a derecha. \n",
    "\n",
    "Puede cambiar el orden de las operaciones utilizando paréntesis **()** para indicar qué operaciones se deben realizar primero. Ejp: 5 + 3 * 2 = 11 o  (5 + 3) * 2 = 16. \n",
    "\n",
    "En la siguiente línea se compilara y ejecutará el ejemplo:"
   ]
  },
  {
   "cell_type": "code",
   "execution_count": 8,
   "metadata": {},
   "outputs": [
    {
     "name": "stdout",
     "output_type": "stream",
     "text": [
      "50 \n",
      "3 1 1.680000 \n"
     ]
    }
   ],
   "source": [
    "!gcc EC108.c -o prb && ./prb"
   ]
  },
  {
   "cell_type": "markdown",
   "metadata": {},
   "source": [
    "## Conversión Explicita\n",
    "\n",
    "En C, cuando una expresión numérica contiene operandos de diferentes tipos de datos, se convierten automáticamente según sea necesario en un proceso llamado conversión de tipo. Ejp: en una operación que involucra tanto flotantes como enteros, el compilador convertirá los valores enteros en valores flotantes. Cuando desee forzar el resultado de una expresión a un tipo diferente, puede realizar una conversión explícita. \n",
    "\n",
    "    #include <stdio.h> \n",
    "    int main() { \n",
    "        //-----------conversión automática \n",
    "        float price = 6.50, new_price; \n",
    "        int increase = 2; \n",
    "        new_price = price + increase; \n",
    "        printf(\"El Nuevo precio es %4.2f \\n\", new_price); \n",
    "        //-----------conversión explicita \n",
    "        float average; \n",
    "        int total = 23, count = 4; \n",
    "        average = (float) total / count; \n",
    "        printf(\"El promedio es %4.2f\", average); \n",
    "        //----------------------------------------- \n",
    "        return 0; \n",
    "    } \n",
    "Incluso cuando el compilador puede realizar una conversión de tipo automática, la conversión de tipo explícita se considera una buena práctica de programación. \n",
    "\n",
    "En la siguiente línea se compilara y ejecutará el ejemplo:"
   ]
  },
  {
   "cell_type": "code",
   "execution_count": 9,
   "metadata": {},
   "outputs": [
    {
     "name": "stdout",
     "output_type": "stream",
     "text": [
      "El Nuevo precio es 8.50 \n",
      "El promedio es 5.75"
     ]
    }
   ],
   "source": [
    "!gcc EC109.c -o prb && ./prb"
   ]
  },
  {
   "cell_type": "markdown",
   "metadata": {},
   "source": [
    "## Operadores de Asignación \n",
    "\n",
    "La asignación evalúa primero la expresión en el lado derecho del __=__ y luego asigna ese valor a la variable en el lado izquierdo. Esto hace posible usar la misma variable en ambos lados de una declaración de asignación, para acortar este tipo de declaración de asignación, C ofrece el operador de asignación +=. Muchos operadores C tienen un operador de asignación correspondiente. \n",
    "\n",
    "    #include <stdio.h> \n",
    "    int main() { \n",
    "        int x = 2; \n",
    "        x = x + 1;  /* x es ahora 3 */ \n",
    "        //x += 1;  // 3 \n",
    "        //x -= 1;  // 1 \n",
    "        //x *= 3;  // 6 \n",
    "        //x /= 2;  // 1 \n",
    "        //x %= 2;  // 0 \n",
    "        //x += 3 * 2;  // 8 \n",
    "        printf(\"%d\", x); \n",
    "        return 0; \n",
    "    } \n",
    "En la siguiente línea se compilara y ejecutará el ejemplo:"
   ]
  },
  {
   "cell_type": "code",
   "execution_count": 10,
   "metadata": {},
   "outputs": [
    {
     "name": "stdout",
     "output_type": "stream",
     "text": [
      "3"
     ]
    }
   ],
   "source": [
    "!gcc EC110.c -o prb && ./prb"
   ]
  },
  {
   "cell_type": "markdown",
   "metadata": {},
   "source": [
    "## Incremento y Disminución \n",
    "\n",
    "Agregar 1 a una variable se puede hacer con el operador de incremento ++. De manera similar, el operador de decremento -- se usa para restar 1 de una variable. Los operadores de incremento y decremento pueden usarse ya sea prefix (antes del nombre de la variable) o postfix (después del nombre de la variable). La forma en que usa el operador puede ser importante en una declaración de asignación. \n",
    "\n",
    "    #include <stdio.h> \n",
    "    int main() { \n",
    "        int x, y, z; \n",
    "        //------------------------------------------------- \n",
    "        z = 3; \n",
    "        x = z--;  /* asigna 3 a x, y reduce z a 2 */ \n",
    "        printf(\"x = %d \\n\", x); \n",
    "        printf(\"z = %d \\n\", z);\n",
    "        //-------------------------------------------------     \n",
    "        y = 3; \n",
    "        x = ++y;  /* incrementa y a 4, asigna 4 a x */ \n",
    "        printf(\"x = %d \\n\", x); \n",
    "        printf(\"y = %d \\n\", y); \n",
    "        //------------------------------------------------- \n",
    "        return 0; \n",
    "    }\n",
    "En la siguiente línea se compilara y ejecutará el ejemplo:"
   ]
  },
  {
   "cell_type": "code",
   "execution_count": 13,
   "metadata": {},
   "outputs": [
    {
     "name": "stdout",
     "output_type": "stream",
     "text": [
      "x = 3 \n",
      "z = 2 \n",
      "x = 4 \n",
      "y = 4 \n"
     ]
    }
   ],
   "source": [
    "!gcc EC111.c -o prb && ./prb"
   ]
  },
  {
   "cell_type": "code",
   "execution_count": null,
   "metadata": {},
   "outputs": [],
   "source": []
  }
 ],
 "metadata": {
  "kernelspec": {
   "display_name": "Python 3",
   "language": "python",
   "name": "python3"
  },
  "language_info": {
   "codemirror_mode": {
    "name": "ipython",
    "version": 3
   },
   "file_extension": ".py",
   "mimetype": "text/x-python",
   "name": "python",
   "nbconvert_exporter": "python",
   "pygments_lexer": "ipython3",
   "version": "3.7.4"
  }
 },
 "nbformat": 4,
 "nbformat_minor": 4
}
