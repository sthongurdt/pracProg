{
 "cells": [
  {
   "cell_type": "markdown",
   "metadata": {},
   "source": [
    "# Capitulo 8 \n",
    "\n",
    "## Directivas del pre procesador \n",
    "El preprocesador C usa las directivas # para realizar sustituciones en el código fuente del programa antes de la compilación. Por ejemplo, la línea #include <stdio.h> se reemplaza por el contenido del archivo de encabezado stdio.h antes de compilar un programa. \n",
    "\n",
    "Directivas de preprocesador y sus usos: \n",
    "\n",
    "**#include** Incluyendo archivos de encabezado.  \n",
    "**#define**, **#undef** Definición y indeterminacion de macros.  \n",
    "**#ifdef**, **#ifndef**, **#if**, **#else**, **#elif**, **#endif** Compilación condicional.  \n",
    "**#pragma** Implementación y compilador específico.  \n",
    "**#error**, **#warning** Genera un mensaje de error o advertencia. Un error que detiene la compilación.  "
   ]
  },
  {
   "cell_type": "markdown",
   "metadata": {},
   "source": [
    "## Directiva #include \n",
    "La directiva #include es para incluir archivos de encabezado en un programa. Un archivo de encabezado declara una colección de funciones y macros para una biblioteca, un término que proviene de la forma en que la colección de código se puede reutilizar. Algunas bibliotecas C útiles son: \n",
    "\n",
    "**stdio** Funciones de entrada/salida estándar, incluidas las operaciones de impresión y archivo.  \n",
    "**stdlib** Gestión de memoria y otras utilidades  \n",
    "**string** Funciones de cadena para manejar cadenas  \n",
    "**errno** La variable global errno y macros de código de error  \n",
    "**Math** Las funciones matemáticas comunes  \n",
    "**Time** Las utilidades de hora/fecha  \n",
    "\n",
    "Los archivos de encabezado correspondientes para las bibliotecas terminan con **.h** por convención. La directiva #include espera corchetes **<>** alrededor del nombre de archivo del encabezado si el archivo debe buscarse en el compilador incluye rutas. Un archivo de encabezado definido por el usuario también recibe la extensión .h, pero se le menciona con comillas, como en **\"myutil.h\"**. Cuando se utilizan comillas, se busca el archivo en el directorio del código fuente. "
   ]
  },
  {
   "cell_type": "markdown",
   "metadata": {},
   "source": [
    "## Directiva #define \n",
    "La directiva **#define** se usa para crear macros similares a objetos para constantes basadas en valores o expresiones. **#define** también se puede usar para crear macros de función con argumentos que serán reemplazados por el preprocesador.  \n",
    "Tenga cuidado con las definiciones de funciones similares. Tenga en cuenta que el preprocesador realiza un reemplazo directo sin ningún cálculo, lo que puede generar resultados inesperados. Tenga en cuenta que debe encerrar cada parámetro entre paréntesis para obtener el orden correcto de las operaciones. "
   ]
  },
  {
   "cell_type": "markdown",
   "metadata": {},
   "source": [
    "## Formateo de directivas de preprocesador \n",
    "Cuando se utilizan directivas de preprocesador, el # debe ser el primer carácter de una línea. Pero puede haber cualquier cantidad de espacio en blanco antes de # y entre el # y la directiva. Si una directiva # es larga, puede usar el carácter \\ continuación para extender la definición en más de una línea."
   ]
  },
  {
   "cell_type": "markdown",
   "metadata": {},
   "source": [
    "## Definiciones de macros predefinidas \n",
    "Además de definir sus propias macros, hay varias macros predefinidas estándar que siempre están disponibles en un programa en C sin requerir la directiva #define: \n",
    "\n",
    "    __DATE__ La fecha actual como una cadena en el formato mm dd aaaa  \n",
    "    __TIME__ La hora actual como una cadena en el formato hh: mm: ss  \n",
    "    __FILE__ El nombre de archivo actual como una cadena  \n",
    "    __LINE__ El número de línea actual como un valor int  \n",
    "    __STDC__ 1"
   ]
  },
  {
   "cell_type": "markdown",
   "metadata": {},
   "source": [
    "## Las directivas #ifdef, #ifndef y #undef \n",
    "Las directivas **#ifdef**, **#ifndef** y **#undef** operan en macros creadas con #define. Por ejemplo, habrá problemas de compilación si la misma macro se define dos veces, por lo que puede verificar esto con una directiva #ifdef. O si desea redefinir una macro, primero use #undef. El siguiente programa muestra estas directivas: \n",
    "\n",
    "    #include <stdio.h> \n",
    "    #define RATE 0.08 \n",
    "    #ifndef TERM \n",
    "        #define TERM 24 \n",
    "    #endif \n",
    "    // Programa\n",
    "    int main() { \n",
    "        #ifdef RATE  /* esta rama será compilada */ \n",
    "            #undef RATE   \n",
    "            printf(\"Redefiniendo RATE\\n\"); \n",
    "            #define RATE 0.068 \n",
    "        #else  /* esta rama no se compilará */ \n",
    "            #define RATE 0.0680\n",
    "        #endif \n",
    "        printf(\"%f  %d\\n\", RATE, TERM); \n",
    "        return 0; \n",
    "    } "
   ]
  },
  {
   "cell_type": "markdown",
   "metadata": {},
   "source": [
    "## Directivas de compilación condicional \n",
    "La compilación condicional de segmentos de código está controlada por un conjunto de directivas: **#if**, **#else**, **#elif** y **#endif**. Hay casos en los que dicha compilación condicional puede ser útil, pero este tipo de código debe usarse con moderación.  \n",
    "\n",
    "    #include <stdio.h> \n",
    "    #define LEVEL 4 \n",
    "    // Programa\n",
    "    int main() { \n",
    "    #if LEVEL > 6 \n",
    "    #elif LEVEL > 5 \n",
    "    #elif LEVEL <= 4 \n",
    "        printf(\"hola mundo\\n\"); \n",
    "    #else \n",
    "    #endif \n",
    "    return 0; \n",
    "    } \n",
    "\n",
    "El operador de preprocesador defined() se puede usar con #if, como en: \n",
    "\n",
    "    #if !defined(LEVEL) \n",
    "        /* statements */ \n",
    "    #endif \n",
    "\n",
    "La instrucción #if y if no son intercambiables. El #if se evalúa utilizando los datos disponibles para el preprocesador, que luego envía solo la rama verdadera para la compilación. "
   ]
  },
  {
   "cell_type": "markdown",
   "metadata": {},
   "source": [
    "## Operadores de preprocesadores \n",
    "El preprocesador C proporciona los siguientes operadores: \n",
    "\n",
    "**El operador #**  \n",
    "El operador # se llama operador de stringificación o stringizing y le dice al preprocesador que convierta un parámetro en una constante de cadena. Los espacios en blanco a cada lado del argumento se ignoran y se reconocen las secuencias de escape. \n",
    "\n",
    "    #include <stdio.h> \n",
    "    #define TO_STR(x) #x  \n",
    "    // Programa\n",
    "    int main() { \n",
    "        printf(\"%s\\n\", TO_STR( 123\\\\12 )); \n",
    "        return 0; \n",
    "    } \n",
    "\n",
    "**El operador ##**  \n",
    "El operador ## también se llama operador de pegado de tokens porque agrega o \"pega\" tokens juntos. \n",
    "\n",
    "    #include <stdio.h> \n",
    "    #define VAR(name, num) name##num \n",
    "    // Programa\n",
    "    int main() { \n",
    "        int x1 = 125, x2 = 250, x3 = 500; \n",
    "        printf(\"%d\\n\", VAR(x, 3)); \n",
    "        return 0; \n",
    "    } "
   ]
  },
  {
   "cell_type": "code",
   "execution_count": null,
   "metadata": {},
   "outputs": [],
   "source": []
  }
 ],
 "metadata": {
  "kernelspec": {
   "display_name": "Python 3",
   "language": "python",
   "name": "python3"
  },
  "language_info": {
   "codemirror_mode": {
    "name": "ipython",
    "version": 3
   },
   "file_extension": ".py",
   "mimetype": "text/x-python",
   "name": "python",
   "nbconvert_exporter": "python",
   "pygments_lexer": "ipython3",
   "version": "3.7.4"
  }
 },
 "nbformat": 4,
 "nbformat_minor": 4
}
