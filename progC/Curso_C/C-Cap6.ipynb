{
 "cells": [
  {
   "cell_type": "markdown",
   "metadata": {},
   "source": [
    "# Capitulo 6 \n",
    "\n",
    "## Gestión de la memoria \n",
    "Comprender la memoria es un aspecto importante de la programación en C. Cuando declara una variable utilizando un tipo de datos básico, C asigna automáticamente espacio para la variable en un área de memoria llamada pila. A una variable int, por ejemplo, normalmente se le asignan 4 bytes cuando se declara. Como otro ejemplo, a una matriz con un tamaño especificado se le asignan bloques contiguos de memoria con cada bloque del tamaño de un elemento: \n",
    "\n",
    "    #include <stdio.h> \n",
    "    // Programa\n",
    "    int main() { \n",
    "        int x; \n",
    "        printf(\"%d \\n\", sizeof(x)); /* salida: 4 */ \n",
    "        int arr[10]; \n",
    "        printf(\"%d\", sizeof(arr)); /* salida: 40 */ \n",
    "        return 0; \n",
    "    } \n",
    "\n",
    "Mientras su programa declare explícitamente un tipo de datos básico o un tamaño de matriz, la memoria se administra automáticamente. Sin embargo, la **asignación de memoria dinámica** es el proceso de asignación y liberación de memoria según sea necesario. Ahora puede solicitar en tiempo de ejecución la cantidad de elementos de la matriz y luego crear una matriz con tantos elementos. La memoria dinámica se administra con punteros que apuntan a bloques de memoria recién asignados en un área llamada montón (heap)."
   ]
  },
  {
   "cell_type": "markdown",
   "metadata": {},
   "source": [
    "## Funciones de gestión de memoria \n",
    "La biblioteca stdlib.h incluye funciones de administración de memoria. La declaración #include <stdlib.h> en la parte superior de su programa le da acceso a lo siguiente: \n",
    "\n",
    "**malloc(bytes)** Devuelve un puntero a un bloque contiguo de memoria que tiene un tamaño de bytes.  \n",
    "**calloc(num_items, item_size)** Devuelve un puntero a un bloque contiguo de memoria que tiene elementos num_items, cada uno de tamaño item_size en bytes. Normalmente se usa para matrices, estructuras y otros tipos de datos derivados.  \n",
    "**realloc(ptr, bytes)** Cambia la memoria apuntada por ptr al tamaño bytes. La memoria recién asignada no se inicializa.  \n",
    "**free(ptr)** Libera el bloque de memoria al que apunta ptr."
   ]
  },
  {
   "cell_type": "markdown",
   "metadata": {},
   "source": [
    "## La función malloc \n",
    "La función **malloc()** asigna un número especificado de bytes contiguos en la memoria. **malloc** devuelve un puntero a la memoria asignada. \n",
    "\n",
    "    #include <stdio.h> \n",
    "    #include <stdlib.h>\n",
    "    //Programa\n",
    "    int main() { \n",
    "        int *ptr; \n",
    "        ptr = malloc(10*sizeof(*ptr));  /* un bloque de 10 int */ \n",
    "        if (ptr != NULL) { \n",
    "            *(ptr+2) = 50;  /* asigna 50 al tercer int */ \n",
    "        } \n",
    "        printf(\"El tercer elemento es igual a %d\", *(ptr + 2)); \n",
    "        return 0; \n",
    "    } \n",
    "\n",
    "Observe que sizeof se aplicó a *ptr en lugar de int, lo que hace que el código sea más robusto en caso de que la declaración *ptr se cambie a un tipo de datos diferente más adelante. La memoria asignada es contigua y puede tratarse como una matriz. En lugar de usar corchetes [] para referirse a los elementos, la aritmética del puntero se usa para atravesar la matriz. Se recomienda usar + para referirse a los elementos de la matriz. Usar ++ o += cambia la dirección almacenada por el puntero. \n",
    "\n",
    "Si la asignación no tiene éxito, se devuelve NULL. Debido a esto, debe incluir código para verificar si hay un puntero NULL."
   ]
  },
  {
   "cell_type": "markdown",
   "metadata": {},
   "source": [
    "## La función free \n",
    "La función **free()** es una función de administración de memoria que se llama para liberar memoria. Al liberar memoria, se pone más memoria a disposición para usar más adelante en el programa. \n",
    "\n",
    "    #include <stdio.h> \n",
    "    #include <stdlib.h>\n",
    "    // Programa\n",
    "    int main() {   \n",
    "        int *ptr; \n",
    "        ptr = malloc(10*sizeof(*ptr));  /* un bloque de 10 int */ \n",
    "        if (ptr != NULL) \n",
    "            *(ptr+2) = 50;  /* asigna 50 al tercer int */ \n",
    "        printf(\"El tercer elemento es igual a %d\", *(ptr + 2));  /* 50 */ \n",
    "        free(ptr); \n",
    "        return 0; \n",
    "    }"
   ]
  },
  {
   "cell_type": "markdown",
   "metadata": {},
   "source": [
    "## La función calloc \n",
    "La función **calloc()** asigna memoria en función del tamaño de un elemento específico, como una estructura. **calloc** asigna bloques de memoria dentro de un bloque contiguo de memoria para una matriz de elementos de estructura. Puede navegar de una estructura a la siguiente con la aritmética del puntero. Después de asignar espacio para una estructura, se debe asignar memoria para la cadena dentro de la estructura. El uso de un puntero para el miembro de información permite almacenar cualquier cadena de longitud. Las estructuras asignadas dinámicamente son la base de listas vinculadas y árboles binarios, así como otras estructuras de datos. El siguiente programa usa calloc para asignar memoria para una estructura y malloc para asignar memoria para la cadena dentro de la estructura: \n",
    "\n",
    "    #include <stdio.h> \n",
    "    #include <stdlib.h> \n",
    "    #include <string.h> \n",
    "    typedef struct { \n",
    "        int num; \n",
    "        char *info; \n",
    "    } record; \n",
    "    // Programa\n",
    "    int main() { \n",
    "        record *recs; \n",
    "        int num_recs = 2, k; \n",
    "        char str[ ] = \"Esto es información\"; \n",
    "        recs = calloc(num_recs, sizeof(record)); \n",
    "        if (recs != NULL) { \n",
    "            for (k = 0; k < num_recs; k++) { \n",
    "                (recs+k)->num = k; \n",
    "                (recs+k)->info = malloc(sizeof(str)); \n",
    "                strcpy((recs+k)->info, str); \n",
    "            } \n",
    "        } \n",
    "        for (k = 0; k < num_recs; k++) { \n",
    "            printf(\"%d\\t%s\\n\", (recs+k)->num, (recs+k)->info); \n",
    "        } \n",
    "        return 0; \n",
    "    }"
   ]
  },
  {
   "cell_type": "markdown",
   "metadata": {},
   "source": [
    "## La función realloc \n",
    "La función **realloc()** expande un bloque actual para incluir memoria adicional. **realloc** deja el contenido original en la memoria y expande el bloque para permitir más almacenamiento. Por ejemplo: \n",
    "\n",
    "    #include <stdio.h> \n",
    "    #include <stdlib.h> \n",
    "    // Programa\n",
    "    int main() { \n",
    "        int *ptr; \n",
    "        ptr = malloc(10*sizeof(*ptr));  /* un bloque de 10 int */ \n",
    "        if (ptr != NULL) { \n",
    "            *(ptr+2) = 50;  /* asigna 50 al tercer int */ \n",
    "        } \n",
    "        ptr = realloc(ptr, 100*sizeof(*ptr)); /* 100 int */ \n",
    "        *(ptr+30) = 75; \n",
    "        printf(\"Los elementos 2 y 30 son %d %d\", *(ptr+2), *(ptr+30)); \n",
    "        return 0; \n",
    "    } "
   ]
  },
  {
   "cell_type": "markdown",
   "metadata": {},
   "source": [
    "## Asignación de memoria para cadenas \n",
    "Al asignar memoria para un puntero de cadena, es posible que desee utilizar la longitud de cadena en lugar del operador sizeof para calcular bytes. Este enfoque es una mejor administración de memoria porque no está asignando más espacio del necesario para un puntero. Cuando use strlen para determinar la cantidad de bytes necesarios para una cadena, asegúrese de incluir un byte adicional para el carácter NULL '\\0'. Un char siempre es un byte, por lo que no es necesario multiplicar los requisitos de memoria por sizeof (char). \n",
    "\n",
    "    #include <stdio.h> \n",
    "    #include <stdlib.h> \n",
    "    #include <string.h> \n",
    "    // Programa\n",
    "    int main() { \n",
    "        char str20[20]; \n",
    "        char *str = NULL; \n",
    "        strcpy(str20, \"12345\"); \n",
    "        printf(\"Tamaño de str20: %d\\n\", sizeof(str20)); \n",
    "        printf(\"Longitud de str20: %d\\n\", strlen(str20)); \n",
    "        str = malloc(strlen(str20)+1); /* hacer espacio para \\0 */ \n",
    "        strcpy(str, str20); \n",
    "        printf(\"%s\", str); \n",
    "        return 0; \n",
    "    } "
   ]
  },
  {
   "cell_type": "markdown",
   "metadata": {},
   "source": [
    "## Matrices Dinámicas \n",
    "Muchos algoritmos implementan una matriz dinámica porque esto permite que la cantidad de elementos crezca según sea necesario. Debido a que los elementos no se asignan todos a la vez, las matrices dinámicas generalmente usan una estructura para realizar un seguimiento del tamaño de la matriz actual, la capacidad actual y un puntero a los elementos, por ejemplo: \n",
    "\n",
    "    #include <stdio.h> \n",
    "    #include <stdlib.h> \n",
    "    typedef struct { \n",
    "        int *elements, size, cap; \n",
    "    } dyn_array; \n",
    "    // Programa\n",
    "    int main() { \n",
    "        dyn_array arr; \n",
    "        int i; \n",
    "        // Iniciar matriz\n",
    "        arr.size = 0; \n",
    "        arr.elements = calloc(1, sizeof(*arr.elements)); \n",
    "        // espacio para 1 elemento  \n",
    "        arr.cap = 1;  \n",
    "        // expandir en 5 elementos más \n",
    "        arr.elements = realloc(arr.elements, (5 + arr.cap)*sizeof(*arr.elements)); \n",
    "        if (arr.elements != NULL) \n",
    "            // incrementar la capacidad\n",
    "            arr.cap += 5; \n",
    "        // agrega un elemento y aumenta el tamaño\n",
    "        if (arr.size < arr.cap) { \n",
    "            // agregar elemento a la matriz\n",
    "            arr.elements[arr.size] = 50; \n",
    "            arr.size++; \n",
    "        } \n",
    "        else \n",
    "            printf(\" Necesidad de expandir la matriz.\"); \n",
    "        // mostrar elementos de matriz\n",
    "        for (i = 0; i < arr.cap; i++) \n",
    "            printf(\" Elemento %d: %d\\n\", i, arr.elements[i]); \n",
    "        return 0; \n",
    "} \n",
    "\n",
    "Todo el programa está escrito en **main()** con fines de demostración. Para implementar correctamente una matriz dinámica, las subtareas deben desglosarse en funciones como **init_array()**, **raise_array()**, **add_element()** y **display_array()**. La comprobación de errores también se omitió para mantener corta la demostración."
   ]
  },
  {
   "cell_type": "code",
   "execution_count": null,
   "metadata": {},
   "outputs": [],
   "source": []
  }
 ],
 "metadata": {
  "kernelspec": {
   "display_name": "Python 3",
   "language": "python",
   "name": "python3"
  },
  "language_info": {
   "codemirror_mode": {
    "name": "ipython",
    "version": 3
   },
   "file_extension": ".py",
   "mimetype": "text/x-python",
   "name": "python",
   "nbconvert_exporter": "python",
   "pygments_lexer": "ipython3",
   "version": "3.7.4"
  }
 },
 "nbformat": 4,
 "nbformat_minor": 4
}
