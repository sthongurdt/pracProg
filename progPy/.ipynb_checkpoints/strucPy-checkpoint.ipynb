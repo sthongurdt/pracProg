{
 "cells": [
  {
   "cell_type": "markdown",
   "metadata": {},
   "source": [
    "# Estructura if"
   ]
  },
  {
   "cell_type": "code",
   "execution_count": 4,
   "metadata": {},
   "outputs": [
    {
     "name": "stdout",
     "output_type": "stream",
     "text": [
      "Introduzca un numero: -1\n",
      "el numero es negativo\n"
     ]
    }
   ],
   "source": [
    "x = int(input(\"Introduzca un numero: \"))\n",
    "\n",
    "if x < 0:\n",
    "    print('el numero es negativo')\n",
    "elif x == 0:\n",
    "    print('cero')\n",
    "else:\n",
    "    print('el numero es positivo')"
   ]
  },
  {
   "cell_type": "markdown",
   "metadata": {},
   "source": [
    "# Estructura for"
   ]
  },
  {
   "cell_type": "code",
   "execution_count": 13,
   "metadata": {},
   "outputs": [
    {
     "name": "stdout",
     "output_type": "stream",
     "text": [
      "0\n",
      "1\n",
      "2\n",
      "3\n",
      "4\n",
      "-----------\n",
      "10\n",
      "12\n",
      "14\n",
      "16\n",
      "18\n",
      "-----------\n",
      "gato 4\n",
      "ventana 7\n",
      "melifluo 8\n",
      "-----------\n",
      "0\n",
      "1\n",
      "2\n",
      "3\n",
      "4\n",
      "5\n",
      "6\n",
      "7\n",
      "Salimos del loop al llegar al siete.\n",
      "-----------\n",
      "nombre\n",
      "Diego\n",
      "celular\n",
      "Nokia 1100\n"
     ]
    }
   ],
   "source": [
    "for i in range(5): # creacion de un for solo teniendo en cuenta la parada\n",
    "    print(i)\n",
    "print('-----------')\n",
    "for j in range(10,20,2): # creacion de un for teniendo en cuenta el inicio, parada, paso\n",
    "    print(j)\n",
    "print('-----------')\n",
    "words = ['gato', 'ventana', 'melifluo']\n",
    "for w in words: # de esta manera se pueden recorrer listas, tuplas y diccionarios\n",
    "    print(w, len(w))\n",
    "print('-----------')\n",
    "num = (0,1,2,3,4,5,6,7,8,9)\n",
    "for n in num:\n",
    "    print(n)\n",
    "    if n == 7:\n",
    "        print('Salimos del loop al llegar al siete.')\n",
    "        break\n",
    "print('-----------')\n",
    "diccionario = {'nombre'  : 'Diego', 'celular' : 'Nokia 1100'}\n",
    "for key, value in diccionario.items():\n",
    "    print(key)\n",
    "    print(value)"
   ]
  },
  {
   "cell_type": "markdown",
   "metadata": {},
   "source": [
    "# Estructura while"
   ]
  },
  {
   "cell_type": "code",
   "execution_count": 19,
   "metadata": {},
   "outputs": [
    {
     "name": "stdout",
     "output_type": "stream",
     "text": [
      "2\n",
      "4\n",
      "8\n",
      "16\n",
      "32\n",
      "64\n",
      "128\n",
      "256\n",
      "512\n",
      "1024\n",
      "2048\n",
      "4096\n",
      "8192\n",
      "16384\n",
      "[1, 2, 4, 8, 16, 32, 64, 128, 256, 512, 1024, 2048, 4096, 8192]\n"
     ]
    },
    {
     "data": {
      "text/plain": [
       "list"
      ]
     },
     "execution_count": 19,
     "metadata": {},
     "output_type": "execute_result"
    }
   ],
   "source": [
    "# Vamos a generar las potencias de 2 menores que 10000, sin saber previamente cuántos números son\n",
    "a = 1\n",
    "pot = []\n",
    "while( a < 10000 ):\n",
    "    pot.append(a)\n",
    "    a = 2*a\n",
    "    print(a)\n",
    "print(pot)\n",
    "type(pot)"
   ]
  },
  {
   "cell_type": "markdown",
   "metadata": {},
   "source": [
    "## Ejemplo 1"
   ]
  },
  {
   "cell_type": "code",
   "execution_count": 21,
   "metadata": {},
   "outputs": [
    {
     "name": "stdout",
     "output_type": "stream",
     "text": [
      "1\n",
      "2\n",
      "MARCO\n",
      "4\n",
      "POLO\n",
      "MARCO\n",
      "7\n",
      "8\n",
      "MARCO\n",
      "POLO\n",
      "11\n",
      "MARCO\n",
      "13\n",
      "14\n",
      "PISO\n",
      "16\n",
      "17\n",
      "MARCO\n",
      "19\n",
      "POLO\n",
      "MARCO\n",
      "22\n",
      "23\n",
      "MARCO\n",
      "POLO\n",
      "26\n",
      "MARCO\n",
      "28\n",
      "29\n",
      "PISO\n",
      "31\n",
      "32\n",
      "MARCO\n",
      "34\n",
      "POLO\n",
      "MARCO\n",
      "37\n",
      "38\n",
      "MARCO\n",
      "POLO\n",
      "41\n",
      "MARCO\n",
      "43\n",
      "44\n",
      "PISO\n",
      "46\n",
      "47\n",
      "MARCO\n",
      "49\n",
      "POLO\n",
      "MARCO\n",
      "52\n",
      "53\n",
      "MARCO\n",
      "POLO\n",
      "56\n",
      "MARCO\n",
      "58\n",
      "59\n",
      "PISO\n",
      "61\n",
      "62\n",
      "MARCO\n",
      "64\n",
      "POLO\n",
      "MARCO\n",
      "67\n",
      "68\n",
      "MARCO\n",
      "POLO\n",
      "71\n",
      "MARCO\n",
      "73\n",
      "74\n",
      "PISO\n",
      "76\n",
      "77\n",
      "MARCO\n",
      "79\n",
      "POLO\n",
      "MARCO\n",
      "82\n",
      "83\n",
      "MARCO\n",
      "POLO\n",
      "86\n",
      "MARCO\n",
      "88\n",
      "89\n",
      "PISO\n",
      "91\n",
      "92\n",
      "MARCO\n",
      "94\n",
      "POLO\n",
      "MARCO\n",
      "97\n",
      "98\n",
      "MARCO\n"
     ]
    }
   ],
   "source": [
    "# se crea un program que imprima los numeros de 1 a 100, si es multipo de 3 diga marco, si es multiplo de 5 diga polo y si es multiplo de ambos piso\n",
    "for k in range(1,100):\n",
    "    if k % 3 == 0 and k % 5 == 0:\n",
    "        print('PISO')\n",
    "    elif k % 3 == 0:\n",
    "        print('MARCO')\n",
    "    elif k % 5 == 0:\n",
    "        print('POLO')\n",
    "    else:\n",
    "        print(k)"
   ]
  },
  {
   "cell_type": "code",
   "execution_count": null,
   "metadata": {},
   "outputs": [],
   "source": []
  }
 ],
 "metadata": {
  "kernelspec": {
   "display_name": "Python 3",
   "language": "python",
   "name": "python3"
  },
  "language_info": {
   "codemirror_mode": {
    "name": "ipython",
    "version": 3
   },
   "file_extension": ".py",
   "mimetype": "text/x-python",
   "name": "python",
   "nbconvert_exporter": "python",
   "pygments_lexer": "ipython3",
   "version": "3.7.1"
  }
 },
 "nbformat": 4,
 "nbformat_minor": 2
}
