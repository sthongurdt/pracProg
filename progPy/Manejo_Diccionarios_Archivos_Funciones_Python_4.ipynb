{
 "cells": [
  {
   "cell_type": "markdown",
   "metadata": {},
   "source": [
    "# Declaracion While"
   ]
  },
  {
   "cell_type": "code",
   "execution_count": 3,
   "metadata": {},
   "outputs": [
    {
     "name": "stdout",
     "output_type": "stream",
     "text": [
      "1\n",
      "6\n",
      "15\n",
      "28\n",
      "66\n"
     ]
    }
   ],
   "source": [
    "def sumatoria(num): # la funcion devuelve la sumatoria de 1+2+3+...+n\n",
    "    cont = 0\n",
    "    num2 = 1\n",
    "    while num2 <= num:\n",
    "        cont = cont + num2\n",
    "        num2 = num2 + 1\n",
    "    return cont\n",
    "\n",
    "print(sumatoria(1))\n",
    "print(sumatoria(3))\n",
    "print(sumatoria(5))\n",
    "print(sumatoria(7))\n",
    "print(sumatoria(11))"
   ]
  },
  {
   "cell_type": "code",
   "execution_count": 5,
   "metadata": {},
   "outputs": [
    {
     "name": "stdout",
     "output_type": "stream",
     "text": [
      "[0, 2, 4, 6, 8, 10, 12, 14]\n"
     ]
    }
   ],
   "source": [
    "count = 0 \n",
    "eve_nums = []\n",
    "while count <= 15:\n",
    "    if count % 2 == 0:\n",
    "        eve_nums.append(count)\n",
    "    count = count + 1\n",
    "    #print(eve_nums)\n",
    "print(eve_nums)"
   ]
  },
  {
   "cell_type": "code",
   "execution_count": 6,
   "metadata": {},
   "outputs": [
    {
     "name": "stdout",
     "output_type": "stream",
     "text": [
      "tot = 42, accum = 42\n"
     ]
    }
   ],
   "source": [
    "list1 = [8, 3, 4, 5, 6, 7, 9]\n",
    "\n",
    "tot = 0\n",
    "for elem in list1:\n",
    "    tot = tot + elem\n",
    "\n",
    "accum = 0\n",
    "i = 0\n",
    "while i < len(list1):\n",
    "    accum = accum + list1[i]\n",
    "    i = i +1\n",
    "    \n",
    "print('tot = {}, accum = {}'.format(tot, accum))"
   ]
  },
  {
   "cell_type": "code",
   "execution_count": 7,
   "metadata": {},
   "outputs": [
    {
     "data": {
      "text/plain": [
       "[1, 2, 3]"
      ]
     },
     "execution_count": 7,
     "metadata": {},
     "output_type": "execute_result"
    }
   ],
   "source": [
    "def parar4(s):\n",
    "    lts = []\n",
    "    i = 0\n",
    "    while i < len(s):\n",
    "        if s[i] == 4:\n",
    "            break\n",
    "        lts.append(s[i])\n",
    "        i = i + 1\n",
    "    return lts\n",
    "\n",
    "l = [1,2,3,4]\n",
    "parar4(l) "
   ]
  },
  {
   "cell_type": "markdown",
   "metadata": {},
   "source": [
    "# Ciclo de escucha"
   ]
  },
  {
   "cell_type": "code",
   "execution_count": 1,
   "metadata": {},
   "outputs": [
    {
     "name": "stdout",
     "output_type": "stream",
     "text": [
      "Siguiente número para sumar (Ingrese 0 si no hay más números): 1\n",
      "Siguiente número para sumar (Ingrese 0 si no hay más números): 2\n",
      "Siguiente número para sumar (Ingrese 0 si no hay más números): 3\n",
      "Siguiente número para sumar (Ingrese 0 si no hay más números): 4\n",
      "Siguiente número para sumar (Ingrese 0 si no hay más números): 0\n",
      "10\n"
     ]
    }
   ],
   "source": [
    "suma = 0\n",
    "i = -1\n",
    "while (i != 0):\n",
    "    i = int(input('Siguiente número para sumar (Ingrese 0 si no hay más números): '))\n",
    "    suma = suma + i\n",
    "\n",
    "print(suma)"
   ]
  },
  {
   "cell_type": "code",
   "execution_count": 3,
   "metadata": {},
   "outputs": [
    {
     "name": "stdout",
     "output_type": "stream",
     "text": [
      "Siguiente valor a sumar (Ingrese 0 si no hay más números)100\n",
      "Subtotal: $ 100.0\n",
      "Siguiente valor a sumar (Ingrese 0 si no hay más números)300\n",
      "Subtotal: $ 400.0\n",
      "Siguiente valor a sumar (Ingrese 0 si no hay más números)345.5\n",
      "Subtotal: $ 745.5\n",
      "Siguiente valor a sumar (Ingrese 0 si no hay más números)0\n",
      "Total items: 3\n",
      "Total $ 745.5\n",
      "promedio precio por item: $ 248.5\n"
     ]
    }
   ],
   "source": [
    "def comprobar():\n",
    "    total = 0\n",
    "    cont = 0\n",
    "    masItems = True\n",
    "    while masItems:\n",
    "        precio = float(input('Siguiente valor a sumar (Ingrese 0 si no hay más números)'))\n",
    "        if precio != 0:\n",
    "            cont = cont + 1\n",
    "            total = total + precio\n",
    "            print('Subtotal: $', total)\n",
    "        else:\n",
    "            masItems = False\n",
    "    prom = total / cont\n",
    "    print('Total items:', cont)\n",
    "    print('Total $', total)\n",
    "    print('promedio precio por item: $', prom)\n",
    "\n",
    "comprobar()"
   ]
  },
  {
   "cell_type": "code",
   "execution_count": 4,
   "metadata": {},
   "outputs": [
    {
     "name": "stdout",
     "output_type": "stream",
     "text": [
      "¿Te gustan los frijoles?si\n",
      "Ingrese Y para sí o N para no.\n",
      "¿Te gustan los frijoles?y\n",
      "Bien.\n"
     ]
    }
   ],
   "source": [
    "def di_si_no(s):\n",
    "    entrada = False\n",
    "    while not entrada:\n",
    "        respuesta = input(s)\n",
    "        respuesta = respuesta.upper() # se pasa a mayuscula\n",
    "        if respuesta == 'Y' or respuesta == 'N':\n",
    "            entrada = True\n",
    "        else:\n",
    "            print('Ingrese Y para sí o N para no.')\n",
    "    return respuesta\n",
    "\n",
    "response = di_si_no('¿Te gustan los frijoles?')\n",
    "if response == 'Y':\n",
    "    print('Bien.')\n",
    "else:\n",
    "    print('Fuera de mi casa.')\n"
   ]
  },
  {
   "cell_type": "markdown",
   "metadata": {},
   "source": [
    "# Break y Continue"
   ]
  },
  {
   "cell_type": "code",
   "execution_count": 5,
   "metadata": {},
   "outputs": [
    {
     "name": "stdout",
     "output_type": "stream",
     "text": [
      "Esta frase siempre se imprimirá\n",
      "Hemos terminado con el bucle while.\n"
     ]
    }
   ],
   "source": [
    "while True:\n",
    "    print(\"Esta frase siempre se imprimirá\")\n",
    "    break\n",
    "    print(\"Se imprime esta frase?\")\n",
    "\n",
    "print(\"Hemos terminado con el bucle while.\")"
   ]
  },
  {
   "cell_type": "code",
   "execution_count": 6,
   "metadata": {},
   "outputs": [
    {
     "name": "stdout",
     "output_type": "stream",
     "text": [
      "Estamos incrementando x\n",
      "Estamos incrementando x\n",
      "Estamos incrementando x\n",
      "Terminamos con el bucle! X tiene el valor: 15\n"
     ]
    }
   ],
   "source": [
    "x = 0\n",
    "while x < 10:\n",
    "    print('Estamos incrementando x')\n",
    "    if x % 2 == 0:\n",
    "        x += 3\n",
    "        continue\n",
    "    if x % 3 == 0:\n",
    "        x += 5\n",
    "    x += 1\n",
    "print('Terminamos con el bucle! X tiene el valor: {}'.format(str(x)))"
   ]
  },
  {
   "cell_type": "code",
   "execution_count": 8,
   "metadata": {},
   "outputs": [
    {
     "name": "stdout",
     "output_type": "stream",
     "text": [
      "10\n",
      "15\n",
      "20\n",
      "25\n",
      "30\n",
      "35\n",
      "40\n",
      "45\n",
      "50\n",
      "55\n",
      "60\n"
     ]
    }
   ],
   "source": [
    "# Tenga cuidado con los bucles infinitos, revise la secuencia de instrucciones antes de ejecutarla.\n",
    "b = 10\n",
    "while b <= 60:\n",
    "    #b = 10\n",
    "    print(b)\n",
    "    b += 5"
   ]
  },
  {
   "cell_type": "markdown",
   "metadata": {},
   "source": [
    "# Parámetros opcionales"
   ]
  },
  {
   "cell_type": "code",
   "execution_count": 1,
   "metadata": {},
   "outputs": [
    {
     "name": "stdout",
     "output_type": "stream",
     "text": [
      "100\n",
      "100\n",
      "64\n"
     ]
    }
   ],
   "source": [
    "print(int(\"100\"))\n",
    "print(int(\"100\", 10))   # lo mismo, 10 es el valor predeterminado para la base\n",
    "print(int(\"100\", 8))     # ahora la base es 8, entonces el resultado es 1 * 64 = 64"
   ]
  },
  {
   "cell_type": "code",
   "execution_count": 3,
   "metadata": {},
   "outputs": [
    {
     "name": "stdout",
     "output_type": "stream",
     "text": [
      "x, y, z, son: 2, 3, 7\n",
      "x, y, z, son: 2, 5, 7\n",
      "x, y, z, son: 2, 5, 8\n"
     ]
    }
   ],
   "source": [
    "initial = 7\n",
    "def f(x, y =3, z=initial):\n",
    "    print(\"x, y, z, son: \" + str(x) + \", \" + str(y) + \", \" + str(z))\n",
    "\n",
    "f(2)\n",
    "f(2, 5)\n",
    "f(2, 5, 8)"
   ]
  },
  {
   "cell_type": "code",
   "execution_count": 4,
   "metadata": {},
   "outputs": [
    {
     "name": "stdout",
     "output_type": "stream",
     "text": [
      "[1]\n",
      "[1, 2]\n",
      "[1, 2, 3]\n",
      "['Hello', 4]\n",
      "['Hello', 5]\n"
     ]
    }
   ],
   "source": [
    "def f(a, L=[]):\n",
    "    L.append(a)\n",
    "    return L\n",
    "\n",
    "print(f(1))\n",
    "print(f(2))\n",
    "print(f(3))\n",
    "print(f(4, [\"Hello\"]))\n",
    "print(f(5, [\"Hello\"]))"
   ]
  },
  {
   "cell_type": "markdown",
   "metadata": {},
   "source": [
    "# Parámetros de palabras clave con .format"
   ]
  },
  {
   "cell_type": "code",
   "execution_count": 2,
   "metadata": {},
   "outputs": [
    {
     "name": "stdout",
     "output_type": "stream",
     "text": [
      "The scores Jack got were: 67,89,91.\n",
      "The scores Emily got were: 72,95,42.\n",
      "The scores Taylor got were: 83,92,86.\n"
     ]
    }
   ],
   "source": [
    "names_scores = [(\"Jack\",[67,89,91]),(\"Emily\",[72,95,42]),(\"Taylor\",[83,92,86])]\n",
    "for name, scores in names_scores:\n",
    "    print(\"The scores {nm} got were: {s1},{s2},{s3}.\".format(nm=name,s1=scores[0],s2=scores[1],s3=scores[2]))"
   ]
  },
  {
   "cell_type": "code",
   "execution_count": 3,
   "metadata": {},
   "outputs": [
    {
     "name": "stdout",
     "output_type": "stream",
     "text": [
      "'Jack!' she yelled. 'Jack! Jack, say hello!'\n",
      "'Jill!' she yelled. 'Jill! Jill, say hello!'\n",
      "'Mary!' she yelled. 'Mary! Mary, say hello!'\n"
     ]
    }
   ],
   "source": [
    "names = [\"Jack\",\"Jill\",\"Mary\"]\n",
    "for n in names:\n",
    "    print(\"'{0}!' she yelled. '{0}! {0}, {1}!'\".format(n,\"say hello\"))"
   ]
  },
  {
   "cell_type": "code",
   "execution_count": 7,
   "metadata": {},
   "outputs": [
    {
     "name": "stdout",
     "output_type": "stream",
     "text": [
      "holaholaholaholaholaholaholaholaholahola\n",
      "tytyty\n"
     ]
    }
   ],
   "source": [
    "def multiply(s, mult_int = 10):\n",
    "    s = str(s)\n",
    "    return s * mult_int\n",
    "\n",
    "print(multiply('hola'))\n",
    "print(multiply('ty', mult_int=3))"
   ]
  },
  {
   "cell_type": "markdown",
   "metadata": {},
   "source": [
    "# Funciones anónimas con expresion Lambda"
   ]
  },
  {
   "cell_type": "code",
   "execution_count": 13,
   "metadata": {},
   "outputs": [
    {
     "name": "stdout",
     "output_type": "stream",
     "text": [
      "<function f at 0x0000020BAB779550>\n",
      "<class 'function'>\n",
      "2\n",
      "<function <lambda> at 0x0000020BAB7799D0>\n",
      "<class 'function'>\n",
      "2\n"
     ]
    }
   ],
   "source": [
    "def f(x):\n",
    "    return x - 1\n",
    "\n",
    "print(f)\n",
    "print(type(f))\n",
    "print(f(3))\n",
    "\n",
    "print(lambda x: x-1)\n",
    "print(type(lambda x: x-1))\n",
    "print((lambda x: x-1)(3))"
   ]
  },
  {
   "cell_type": "code",
   "execution_count": 12,
   "metadata": {},
   "outputs": [
    {
     "name": "stdout",
     "output_type": "stream",
     "text": [
      "a\n",
      "a\n"
     ]
    }
   ],
   "source": [
    "def last_char(s):\n",
    "    return s[-1]\n",
    "\n",
    "last_char2 = lambda s: s[-1]\n",
    "\n",
    "str1 = 'hola'\n",
    "print(last_char(str1))\n",
    "print(last_char2(str1))"
   ]
  },
  {
   "cell_type": "code",
   "execution_count": null,
   "metadata": {},
   "outputs": [],
   "source": []
  }
 ],
 "metadata": {
  "kernelspec": {
   "display_name": "Python 3",
   "language": "python",
   "name": "python3"
  },
  "language_info": {
   "codemirror_mode": {
    "name": "ipython",
    "version": 3
   },
   "file_extension": ".py",
   "mimetype": "text/x-python",
   "name": "python",
   "nbconvert_exporter": "python",
   "pygments_lexer": "ipython3",
   "version": "3.8.5"
  }
 },
 "nbformat": 4,
 "nbformat_minor": 4
}
