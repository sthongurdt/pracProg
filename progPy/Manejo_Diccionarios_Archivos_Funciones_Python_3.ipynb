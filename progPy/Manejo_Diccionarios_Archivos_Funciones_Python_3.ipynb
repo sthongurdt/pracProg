{
 "cells": [
  {
   "cell_type": "markdown",
   "metadata": {},
   "source": [
    "# Definir una función"
   ]
  },
  {
   "cell_type": "code",
   "execution_count": 1,
   "metadata": {},
   "outputs": [
    {
     "name": "stdout",
     "output_type": "stream",
     "text": [
      "Hola mundo! es mi primera función.\n"
     ]
    }
   ],
   "source": [
    "def hello(): # asi se define una función\n",
    "    # tenga cuidado con la identacion, tabs a la derecha o sangria\n",
    "    print('Hola mundo! es mi primera función.')\n",
    "    \n",
    "hello()"
   ]
  },
  {
   "cell_type": "markdown",
   "metadata": {},
   "source": [
    "# Parametros(argumentos) de una función"
   ]
  },
  {
   "cell_type": "code",
   "execution_count": 2,
   "metadata": {},
   "outputs": [
    {
     "name": "stdout",
     "output_type": "stream",
     "text": [
      "Hola Pablo, como has estado?\n"
     ]
    }
   ],
   "source": [
    "def hello2(p):\n",
    "    print('Hola {}, como has estado?'.format(p))\n",
    "hello2('Pablo')"
   ]
  },
  {
   "cell_type": "markdown",
   "metadata": {},
   "source": [
    "# Respuesta de una función"
   ]
  },
  {
   "cell_type": "code",
   "execution_count": 3,
   "metadata": {},
   "outputs": [
    {
     "name": "stdout",
     "output_type": "stream",
     "text": [
      "4\n",
      "[0, 1, 4, 9, 16, 25, 36, 49, 64, 81]\n"
     ]
    }
   ],
   "source": [
    "def pot2(x):\n",
    "    y = x * x\n",
    "    return y\n",
    "\n",
    "print(pot2(2))\n",
    "\n",
    "potencia = []\n",
    "\n",
    "for i in range(10):\n",
    "    potencia = potencia + [pot2(i)]\n",
    "\n",
    "print(potencia)"
   ]
  },
  {
   "cell_type": "code",
   "execution_count": 4,
   "metadata": {},
   "outputs": [
    {
     "name": "stdout",
     "output_type": "stream",
     "text": [
      "['ana', 'juan', 'maria', 'jose']\n",
      "[3, 4, 5, 4]\n"
     ]
    }
   ],
   "source": [
    "def num_car_nom(lista):\n",
    "    num_car = []\n",
    "    for nombre in lista:\n",
    "        num_car = num_car + [len(nombre)]\n",
    "    return num_car\n",
    "\n",
    "lista = ['ana','juan','maria','jose']\n",
    "print(lista)\n",
    "print(num_car_nom(lista))"
   ]
  },
  {
   "cell_type": "markdown",
   "metadata": {},
   "source": [
    "# Funciones acumulativas"
   ]
  },
  {
   "cell_type": "code",
   "execution_count": 5,
   "metadata": {},
   "outputs": [
    {
     "name": "stdout",
     "output_type": "stream",
     "text": [
      "9\n"
     ]
    }
   ],
   "source": [
    "def total(lst):\n",
    "    t = 0\n",
    "    for i in lst:\n",
    "        t = t + i\n",
    "    return t\n",
    "\n",
    "print(total([2,3,4]))"
   ]
  },
  {
   "cell_type": "code",
   "execution_count": 6,
   "metadata": {},
   "outputs": [
    {
     "name": "stdout",
     "output_type": "stream",
     "text": [
      "11\n"
     ]
    }
   ],
   "source": [
    "def count(lst):\n",
    "    c = 0\n",
    "    for i in lst:\n",
    "        c = c + 1\n",
    "    return c\n",
    "\n",
    "print(count('Hola Mundo!'))"
   ]
  },
  {
   "cell_type": "markdown",
   "metadata": {},
   "source": [
    "# Variable local"
   ]
  },
  {
   "cell_type": "code",
   "execution_count": 77,
   "metadata": {},
   "outputs": [
    {
     "name": "stdout",
     "output_type": "stream",
     "text": [
      "5\n"
     ]
    }
   ],
   "source": [
    "def square(x):\n",
    "    y = x * x\n",
    "    return y\n",
    "\n",
    "z = square(10)\n",
    "print(y)"
   ]
  },
  {
   "cell_type": "code",
   "execution_count": 76,
   "metadata": {},
   "outputs": [
    {
     "name": "stdout",
     "output_type": "stream",
     "text": [
      "55\n"
     ]
    }
   ],
   "source": [
    "def adding(x):\n",
    "    y = 3\n",
    "    z = y + x + x\n",
    "    return z\n",
    "\n",
    "def producing(x):\n",
    "    z = x * y\n",
    "    return z\n",
    "\n",
    "print(producing(adding(4)))"
   ]
  },
  {
   "cell_type": "markdown",
   "metadata": {},
   "source": [
    "# Variable global"
   ]
  },
  {
   "cell_type": "code",
   "execution_count": 9,
   "metadata": {},
   "outputs": [
    {
     "name": "stdout",
     "output_type": "stream",
     "text": [
      "100\n"
     ]
    }
   ],
   "source": [
    "def malpot(x):\n",
    "    y = x ** potencia\n",
    "    return y\n",
    "\n",
    "potencia = 2\n",
    "resultado = malpot(10)\n",
    "print(resultado)"
   ]
  },
  {
   "cell_type": "code",
   "execution_count": 10,
   "metadata": {},
   "outputs": [
    {
     "name": "stdout",
     "output_type": "stream",
     "text": [
      "100\n"
     ]
    }
   ],
   "source": [
    "def pot(x):\n",
    "    global potencia\n",
    "    y = x ** potencia\n",
    "    return y\n",
    "\n",
    "potencia = 2\n",
    "resultado = pot(10)\n",
    "print(resultado)"
   ]
  },
  {
   "cell_type": "markdown",
   "metadata": {},
   "source": [
    "# Función llama función"
   ]
  },
  {
   "cell_type": "code",
   "execution_count": 13,
   "metadata": {},
   "outputs": [
    {
     "name": "stdout",
     "output_type": "stream",
     "text": [
      "45\n"
     ]
    }
   ],
   "source": [
    "def pot2(x):\n",
    "    y = x * x\n",
    "    return y\n",
    "\n",
    "def suma_pot2(x,y,z):\n",
    "    a = pot2(x)\n",
    "    b = pot2(y)\n",
    "    c = pot2(z)\n",
    "    return a + b + c\n",
    "\n",
    "a, b, c = -5, 2, 4\n",
    "r = suma_pot2(a, b, c)\n",
    "print(r)"
   ]
  },
  {
   "cell_type": "code",
   "execution_count": 15,
   "metadata": {},
   "outputs": [
    {
     "name": "stdout",
     "output_type": "stream",
     "text": [
      "a\n"
     ]
    }
   ],
   "source": [
    "def cont_ltrs(s):\n",
    "    d = {}\n",
    "    for c in s:\n",
    "        if c not in d:\n",
    "            d[c] = 0\n",
    "        d[c] = d[c] + 1\n",
    "    return d\n",
    "\n",
    "def mas_freq(diccio):\n",
    "    llaves = diccio.keys()\n",
    "    mas_repet = list(llaves)[0]\n",
    "    for llave in llaves:\n",
    "        if diccio[llave] > diccio[mas_repet]:\n",
    "            mas_repet = llave\n",
    "    return mas_repet\n",
    "\n",
    "def ltr_mas_comun(s):\n",
    "    d = cont_ltrs(s)\n",
    "    return mas_freq(d)\n",
    "\n",
    "c = 'soy una cadena'\n",
    "print(ltr_mas_comun(c))"
   ]
  },
  {
   "cell_type": "code",
   "execution_count": 17,
   "metadata": {},
   "outputs": [
    {
     "name": "stdout",
     "output_type": "stream",
     "text": [
      "50\n"
     ]
    }
   ],
   "source": [
    "def addit(x):\n",
    "    y = x + 5\n",
    "    return y\n",
    "\n",
    "def mult(x):\n",
    "    y = x * addit(x)\n",
    "    return y\n",
    "\n",
    "print(mult(5))"
   ]
  },
  {
   "cell_type": "code",
   "execution_count": 21,
   "metadata": {},
   "outputs": [
    {
     "name": "stdout",
     "output_type": "stream",
     "text": [
      "10\n"
     ]
    }
   ],
   "source": [
    "def square(x):\n",
    "    return x * x\n",
    "\n",
    "def g(y):\n",
    "    return y + 3\n",
    "\n",
    "def h(y):\n",
    "    return square(y) + 3\n",
    "\n",
    "print(g(h(2)))"
   ]
  },
  {
   "cell_type": "markdown",
   "metadata": {},
   "source": [
    "# Mutación y efectos secundarios"
   ]
  },
  {
   "cell_type": "code",
   "execution_count": 27,
   "metadata": {},
   "outputs": [
    {
     "name": "stdout",
     "output_type": "stream",
     "text": [
      "5\n",
      "['las', 'personas', 'deben', 'ser', 'curiosos']\n"
     ]
    }
   ],
   "source": [
    "def doble(y):\n",
    "    #global y\n",
    "    y = 2 * y\n",
    "\n",
    "def cambiando(lst):\n",
    "    lst[0] = 'las'\n",
    "    lst[1] = 'personas'\n",
    "\n",
    "y = 5\n",
    "doble(y)\n",
    "print(y)\n",
    "\n",
    "mylst = ['los', 'estudiantes', 'deben', 'ser', 'curiosos']\n",
    "cambiando(mylst)\n",
    "print(mylst)"
   ]
  },
  {
   "cell_type": "markdown",
   "metadata": {},
   "source": [
    "# Empaquetado de tuplas"
   ]
  },
  {
   "cell_type": "code",
   "execution_count": 49,
   "metadata": {},
   "outputs": [
    {
     "name": "stdout",
     "output_type": "stream",
     "text": [
      "('Julia', 'Rabit', 1967, 'Atlantida') <class 'tuple'>\n",
      "('julia', 'rabit', 1968, 'atlantida') <class 'tuple'>\n",
      "Atlantida julia\n"
     ]
    }
   ],
   "source": [
    "j = ('Julia', 'Rabit', 1967, 'Atlantida')\n",
    "g = 'julia', 'rabit', 1968, 'atlantida'\n",
    "print(j, type(j))\n",
    "print(g, type(g))\n",
    "print(j[3], g[0])"
   ]
  },
  {
   "cell_type": "code",
   "execution_count": 50,
   "metadata": {},
   "outputs": [
    {
     "name": "stdout",
     "output_type": "stream",
     "text": [
      "(314.159, 62.8318) <class 'tuple'>\n"
     ]
    }
   ],
   "source": [
    "def infcir(r):\n",
    "    perimetro = 2 * 3.14159 * r\n",
    "    area = 3.14159 * r * r\n",
    "    return (area, perimetro)\n",
    "\n",
    "print(infcir(10), type(infcir(10)))"
   ]
  },
  {
   "cell_type": "code",
   "execution_count": 51,
   "metadata": {},
   "outputs": [
    {
     "name": "stdout",
     "output_type": "stream",
     "text": [
      "['Zaptos', 'Charizard', 'Diglett', 'Tauros', 'Lanturn', 'Wailord']\n"
     ]
    }
   ],
   "source": [
    "lst_tups = [('Articuno', 'Moltres', 'Zaptos'), ('Beedrill', 'Metapod', 'Charizard', 'Venasaur', 'Squirtle'), ('Oddish', 'Poliwag', 'Diglett', 'Bellsprout'), ('Ponyta', \"Farfetch'd\", \"Tauros\", 'Dragonite'), ('Hoothoot', 'Chikorita', 'Lanturn', 'Flaaffy', 'Unown', 'Teddiursa', 'Phanpy'), ('Loudred', 'Volbeat', 'Wailord', 'Seviper', 'Sealeo')]\n",
    "pkms = []\n",
    "for pkm in lst_tups:\n",
    "    pkms.append(pkm[2])\n",
    "print (pkms)"
   ]
  },
  {
   "cell_type": "code",
   "execution_count": 52,
   "metadata": {},
   "outputs": [
    {
     "name": "stdout",
     "output_type": "stream",
     "text": [
      "['b', 7, 'green', 9.99, 'chipmunk']\n"
     ]
    }
   ],
   "source": [
    "tups = [('a', 'b', 'c'), (8, 7, 6, 5), ('blue', 'green', 'yellow', 'orange', 'red'), (5.6, 9.99, 2.5, 8.2), ('squirrel', 'chipmunk')]\n",
    "seconds = []\n",
    "for item in tups:\n",
    "    seconds.append(item[1])\n",
    "print(seconds)"
   ]
  },
  {
   "cell_type": "code",
   "execution_count": 53,
   "metadata": {},
   "outputs": [
    {
     "name": "stdout",
     "output_type": "stream",
     "text": [
      "<class 'tuple'>\n"
     ]
    }
   ],
   "source": [
    "def information(name, birth_year, fav_color, hometown):\n",
    "    return (name, birth_year, fav_color, hometown)\n",
    "    #return name, birth_year, fav_color, hometown\n",
    "\n",
    "print(type(information('pj', 90, 'b', 'buc')))"
   ]
  },
  {
   "cell_type": "markdown",
   "metadata": {},
   "source": [
    "# Desempaquetado de tuplas"
   ]
  },
  {
   "cell_type": "code",
   "execution_count": 59,
   "metadata": {},
   "outputs": [
    {
     "name": "stdout",
     "output_type": "stream",
     "text": [
      "314.159\n",
      "62.8318\n",
      "Perimetro: 6361.719749999999, Area: 282.74309999999997\n"
     ]
    }
   ],
   "source": [
    "perimetro, area = infcir(10)\n",
    "print(perimetro)\n",
    "print(area)\n",
    "\n",
    "perimetro2, area2 = infcir(45)\n",
    "print('Perimetro: {}, Area: {}'.format(perimetro2, area2))"
   ]
  },
  {
   "cell_type": "code",
   "execution_count": 75,
   "metadata": {},
   "outputs": [
    {
     "name": "stdout",
     "output_type": "stream",
     "text": [
      "4 3 2 1\n",
      "------------------\n",
      "Squirtle Charmander Pikachu Bulbasaur\n"
     ]
    }
   ],
   "source": [
    "a, b, c, d = 1, 2, 3, 4\n",
    "print(d, c, b, a)\n",
    "print('------------------')\n",
    "water, fire, electric, grass = \"Squirtle\", \"Charmander\", \"Pikachu\", \"Bulbasaur\"\n",
    "print(water, fire, electric, grass)"
   ]
  },
  {
   "cell_type": "code",
   "execution_count": 65,
   "metadata": {},
   "outputs": [
    {
     "name": "stdout",
     "output_type": "stream",
     "text": [
      "7\n",
      "17\n"
     ]
    }
   ],
   "source": [
    "def suma(a, b):\n",
    "    return a + b\n",
    "\n",
    "print(suma(3, 4))\n",
    "x = (8, 9)\n",
    "print(suma(*x)) # el * desempaqueta la tupla\n",
    "#print(suma(x)) # esto genera un error por falta de argumento(parametro)"
   ]
  },
  {
   "cell_type": "code",
   "execution_count": 74,
   "metadata": {},
   "outputs": [
    {
     "name": "stdout",
     "output_type": "stream",
     "text": [
      "Llave: ll1, Valor: 103\n",
      "Llave: ll2, Valor: 3.14159\n",
      "Llave: ll3, Valor: otros\n",
      "------------------\n",
      "Llave: ll1, Valor: 103\n",
      "Llave: ll2, Valor: 3.14159\n",
      "Llave: ll3, Valor: otros\n"
     ]
    }
   ],
   "source": [
    "d = {'ll1': 103, 'll2': 3.14159,'ll3': 'otros'}\n",
    "for i in d.items(): # cuando recorremos un diccionario usando .items(), las llaves y contenido se comportan como tuplas\n",
    "    print('Llave: {}, Valor: {}'.format(i[0], i[1]))\n",
    "print('------------------')\n",
    "for l, v in d.items(): # se puede desempaquetar las tuplas al declarar el for\n",
    "    print('Llave: {}, Valor: {}'.format(l, v))"
   ]
  },
  {
   "cell_type": "code",
   "execution_count": 73,
   "metadata": {},
   "outputs": [
    {
     "name": "stdout",
     "output_type": "stream",
     "text": [
      "0 apple\n",
      "1 pear\n",
      "2 apricot\n",
      "3 cherry\n",
      "4 peach\n",
      "----------------------\n",
      "0 apple\n",
      "1 pear\n",
      "2 apricot\n",
      "3 cherry\n",
      "4 peach\n"
     ]
    }
   ],
   "source": [
    "fruits = ['apple', 'pear', 'apricot', 'cherry', 'peach']\n",
    "for item in enumerate(fruits):\n",
    "    print(item[0], item[1])\n",
    "print('----------------------')\n",
    "for idx, fruit in enumerate(fruits):\n",
    "    print(idx, fruit)"
   ]
  },
  {
   "cell_type": "code",
   "execution_count": null,
   "metadata": {},
   "outputs": [],
   "source": []
  }
 ],
 "metadata": {
  "kernelspec": {
   "display_name": "Python 3",
   "language": "python",
   "name": "python3"
  },
  "language_info": {
   "codemirror_mode": {
    "name": "ipython",
    "version": 3
   },
   "file_extension": ".py",
   "mimetype": "text/x-python",
   "name": "python",
   "nbconvert_exporter": "python",
   "pygments_lexer": "ipython3",
   "version": "3.8.5"
  }
 },
 "nbformat": 4,
 "nbformat_minor": 4
}
