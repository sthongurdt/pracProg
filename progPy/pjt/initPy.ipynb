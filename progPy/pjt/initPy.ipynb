{
 "cells": [
  {
   "cell_type": "markdown",
   "metadata": {},
   "source": [
    "# Pruebas con Numeros\n",
    "se pueden hacer operaciones en python como si fuera una calculadora"
   ]
  },
  {
   "cell_type": "code",
   "execution_count": 1,
   "metadata": {},
   "outputs": [
    {
     "data": {
      "text/plain": [
       "(8, 4, 550, 3.7777777777777777)"
      ]
     },
     "execution_count": 1,
     "metadata": {},
     "output_type": "execute_result"
    }
   ],
   "source": [
    "2*4, 2+2, 1000-450, 34/9"
   ]
  },
  {
   "cell_type": "code",
   "execution_count": 2,
   "metadata": {},
   "outputs": [
    {
     "data": {
      "text/plain": [
       "1"
      ]
     },
     "execution_count": 2,
     "metadata": {},
     "output_type": "execute_result"
    }
   ],
   "source": [
    "7//4 # de esta manera se fuerza la divicion entera"
   ]
  },
  {
   "cell_type": "code",
   "execution_count": 3,
   "metadata": {},
   "outputs": [
    {
     "data": {
      "text/plain": [
       "(81, 4)"
      ]
     },
     "execution_count": 3,
     "metadata": {},
     "output_type": "execute_result"
    }
   ],
   "source": [
    "3**4, 2**2 # de esta manera se hacen las potencias"
   ]
  },
  {
   "cell_type": "code",
   "execution_count": 4,
   "metadata": {},
   "outputs": [
    {
     "data": {
      "text/plain": [
       "1"
      ]
     },
     "execution_count": 4,
     "metadata": {},
     "output_type": "execute_result"
    }
   ],
   "source": [
    "129%2 # de esta manera podemos obtener el modulo de la divicion"
   ]
  },
  {
   "cell_type": "code",
   "execution_count": 5,
   "metadata": {},
   "outputs": [
    {
     "data": {
      "text/plain": [
       "(2+3j)"
      ]
     },
     "execution_count": 5,
     "metadata": {},
     "output_type": "execute_result"
    }
   ],
   "source": [
    "2+3j #asi podemos declarar complejos"
   ]
  },
  {
   "cell_type": "code",
   "execution_count": 6,
   "metadata": {},
   "outputs": [
    {
     "data": {
      "text/plain": [
       "18"
      ]
     },
     "execution_count": 6,
     "metadata": {},
     "output_type": "execute_result"
    }
   ],
   "source": [
    "int(18.4) # asi convertimos una variable en entero, int"
   ]
  },
  {
   "cell_type": "code",
   "execution_count": 7,
   "metadata": {},
   "outputs": [
    {
     "data": {
      "text/plain": [
       "5.77"
      ]
     },
     "execution_count": 7,
     "metadata": {},
     "output_type": "execute_result"
    }
   ],
   "source": [
    "round(5.76543, 2) # asi se puede redondear una variable (numero, digitos)"
   ]
  },
  {
   "cell_type": "code",
   "execution_count": 8,
   "metadata": {},
   "outputs": [
    {
     "data": {
      "text/plain": [
       "2.0"
      ]
     },
     "execution_count": 8,
     "metadata": {},
     "output_type": "execute_result"
    }
   ],
   "source": [
    "float(2) # asi convertimos una variable en flotante, float"
   ]
  },
  {
   "cell_type": "code",
   "execution_count": 9,
   "metadata": {},
   "outputs": [
    {
     "data": {
      "text/plain": [
       "(4+0j)"
      ]
     },
     "execution_count": 9,
     "metadata": {},
     "output_type": "execute_result"
    }
   ],
   "source": [
    "complex(4) # asi convertimos una variable en complejo, complex"
   ]
  },
  {
   "cell_type": "code",
   "execution_count": 10,
   "metadata": {},
   "outputs": [
    {
     "data": {
      "text/plain": [
       "'256568'"
      ]
     },
     "execution_count": 10,
     "metadata": {},
     "output_type": "execute_result"
    }
   ],
   "source": [
    "str(256568) # asi convertimos una variable en string, str"
   ]
  },
  {
   "cell_type": "markdown",
   "metadata": {},
   "source": [
    "# Variables en Python"
   ]
  },
  {
   "cell_type": "markdown",
   "metadata": {},
   "source": [
    "Python reconoce los tipos de variables automaticamente"
   ]
  },
  {
   "cell_type": "code",
   "execution_count": 11,
   "metadata": {},
   "outputs": [
    {
     "data": {
      "text/plain": [
       "(3, int, 'letras', str, (3-6j), complex)"
      ]
     },
     "execution_count": 11,
     "metadata": {},
     "output_type": "execute_result"
    }
   ],
   "source": [
    "a = 3\n",
    "b1 = \"letras\"\n",
    "c_3_A = 3-6j\n",
    "a, type(a), b1, type(b1), c_3_A, type(c_3_A)"
   ]
  },
  {
   "cell_type": "code",
   "execution_count": 12,
   "metadata": {},
   "outputs": [
    {
     "data": {
      "text/plain": [
       "(5, 100)"
      ]
     },
     "execution_count": 12,
     "metadata": {},
     "output_type": "execute_result"
    }
   ],
   "source": [
    "z, b = 5, 100\n",
    "z, b"
   ]
  },
  {
   "cell_type": "markdown",
   "metadata": {},
   "source": [
    "# Operadores de comparacion\n",
    "\n",
    "+ == igual a\n",
    "+ ¡= diferente de\n",
    "+ < menor que > mayor que\n",
    "+ <= menor igual que >= mayor igual que\n",
    "\n",
    "La respuesta es boolenana: true o false"
   ]
  },
  {
   "cell_type": "code",
   "execution_count": 13,
   "metadata": {},
   "outputs": [
    {
     "name": "stdout",
     "output_type": "stream",
     "text": [
      "False\n",
      "False\n",
      "True\n",
      "True\n",
      "True\n"
     ]
    }
   ],
   "source": [
    "a = 8\n",
    "b = 5\n",
    "x = 5\n",
    "print(a < b)\n",
    "print(a <= b)\n",
    "print(a > b)\n",
    "print(a >= b)\n",
    "print(3 < x < 10) # para saber si un numero esta en un intervalo"
   ]
  },
  {
   "cell_type": "markdown",
   "metadata": {},
   "source": [
    "# Estructuras de Datos"
   ]
  },
  {
   "cell_type": "markdown",
   "metadata": {},
   "source": [
    "existen 3 tipos principales de estructuras de datos: listas, tuplas y diccionarios."
   ]
  },
  {
   "cell_type": "markdown",
   "metadata": {},
   "source": [
    "## Listas\n",
    "metodos\n",
    "+ append() - Add an element to the end of the list\n",
    "+ extend() - Add all elements of a list to the another list\n",
    "+ insert() - Insert an item at the defined index\n",
    "+ remove() - Removes an item from the list\n",
    "+ pop() - Removes and returns an element at the given index\n",
    "+ clear() - Removes all items from the list\n",
    "+ index() - Returns the index of the first matched item\n",
    "+ count() - Returns the count of number of items passed as an argument\n",
    "+ sort() - Sort items in a list in ascending order\n",
    "+ reverse() - Reverse the order of items in the list\n",
    "+ copy() - Returns a shallow copy of the list\n",
    "+ all() \tReturn True if all elements of the list are true (or if the list is empty).\n",
    "+ any() \tReturn True if any element of the list is true. If the list is empty, return False.\n",
    "+ enumerate() \tReturn an enumerate object. It contains the index and value of all the items of list as a tuple.\n",
    "+ len() \tReturn the length (the number of items) in the list.\n",
    "+ list() \tConvert an iterable (tuple, string, set, dictionary) to a list.\n",
    "+ max() \tReturn the largest item in the list.\n",
    "+ min() \tReturn the smallest item in the list\n",
    "+ sorted() \tReturn a new sorted list (does not sort the list itself).\n",
    "+ sum() \tReturn the sum of all elements in the list."
   ]
  },
  {
   "cell_type": "code",
   "execution_count": 26,
   "metadata": {},
   "outputs": [
    {
     "name": "stdout",
     "output_type": "stream",
     "text": [
      "[1, 2.5, '3', (4+6j)]\n",
      "1\n",
      "(4+6j)\n"
     ]
    }
   ],
   "source": [
    "lista = [1,2.5,'3',4+6j]\n",
    "print(lista)\n",
    "print(lista[0])\n",
    "print(lista[-1])"
   ]
  },
  {
   "cell_type": "code",
   "execution_count": 27,
   "metadata": {},
   "outputs": [
    {
     "name": "stdout",
     "output_type": "stream",
     "text": [
      "lista =  [1, 2.5, '3', (4+6j)]\n",
      "[1, 2.5, '3', (4+6j), '6']\n",
      "[1, 2.5, (4+6j), '6']\n",
      "[1, 2.5, (4+6j), '6', 2, 5.6, (7-1j), 1]\n",
      "[1, 2.5, (4+6j), 3.5, '6', 2, 5.6, (7-1j), 1]\n",
      "(4+6j)\n",
      "6\n",
      "(7-1j)\n",
      "4\n",
      "2\n",
      "esta es l3 = [1, 2.5, 3.5, 2, 5.6, 1]\n",
      "6\n",
      "5.6\n",
      "1\n",
      "15.6\n",
      "[1, 2.5, 3.5, 2, 5.6, 1]\n"
     ]
    }
   ],
   "source": [
    "print(\"lista = \",lista)\n",
    "lista.append('6') # Añadir un elemento\n",
    "print(lista)\n",
    "lista.remove('3') # Eliminar un elemento\n",
    "print(lista)\n",
    "l2 = [2, 5.6, 7-1j, 1] \n",
    "lista.extend(l2) # agregar elementos de una lista a otra lista\n",
    "print(lista)\n",
    "lista.insert(3,3.5) # (indice, item)\n",
    "print(lista)\n",
    "print(lista.pop(2)) # se saca el valor del indice\n",
    "print(lista.pop(3)) # se saca el valor del indice\n",
    "print(lista.pop(5)) # se saca el valor del indice\n",
    "print(lista.index(5.6)) # se busca el indice del valor\n",
    "print(lista.count(1)) # se cuenta cuantas veces esta el valor\n",
    "l3 = lista.copy() # se copia el arreglo\n",
    "print(\"esta es l3 =\",l3)\n",
    "print(len(lista)) # tamaño de la lista\n",
    "print(max(lista)) # el maximo de la lista\n",
    "print(min(lista)) # el minimo de la lista\n",
    "print(sum(lista)) # la suma de los elementos de la lista\n",
    "print(lista)\n",
    "#lista.clear() # borrado de la lista\n",
    "#print(lista)"
   ]
  },
  {
   "cell_type": "markdown",
   "metadata": {},
   "source": [
    "# Tuplas\n",
    "No se pueden modificar despues de creadas, la creacion y acceso a una tupla es mas rapido que a una lista, se crea usando parentesis () o con el metodo tuple()."
   ]
  },
  {
   "cell_type": "code",
   "execution_count": 28,
   "metadata": {},
   "outputs": [
    {
     "data": {
      "text/plain": [
       "(1, 2.3, '3', 5e-17)"
      ]
     },
     "execution_count": 28,
     "metadata": {},
     "output_type": "execute_result"
    }
   ],
   "source": [
    "tupla = (1,2.3,'3',5e-17)\n",
    "tupla"
   ]
  },
  {
   "cell_type": "code",
   "execution_count": 29,
   "metadata": {},
   "outputs": [
    {
     "name": "stdout",
     "output_type": "stream",
     "text": [
      "5e-17\n"
     ]
    }
   ],
   "source": [
    "print(tupla[-1])"
   ]
  },
  {
   "cell_type": "code",
   "execution_count": 30,
   "metadata": {},
   "outputs": [
    {
     "data": {
      "text/plain": [
       "4"
      ]
     },
     "execution_count": 30,
     "metadata": {},
     "output_type": "execute_result"
    }
   ],
   "source": [
    "len(tupla) # se puede medir el tamaño de la tupla"
   ]
  },
  {
   "cell_type": "code",
   "execution_count": 34,
   "metadata": {},
   "outputs": [
    {
     "data": {
      "text/plain": [
       "(125, '\\\\#', 'ana')"
      ]
     },
     "execution_count": 34,
     "metadata": {},
     "output_type": "execute_result"
    }
   ],
   "source": [
    "## asi se empaqueta una tupla\n",
    "a = 125\n",
    "b = '\\#'\n",
    "c = \"ana\"\n",
    "d = a,b,c\n",
    "d"
   ]
  },
  {
   "cell_type": "code",
   "execution_count": 35,
   "metadata": {},
   "outputs": [
    {
     "data": {
      "text/plain": [
       "3"
      ]
     },
     "execution_count": 35,
     "metadata": {},
     "output_type": "execute_result"
    }
   ],
   "source": [
    "len(d)"
   ]
  },
  {
   "cell_type": "code",
   "execution_count": 36,
   "metadata": {},
   "outputs": [
    {
     "name": "stdout",
     "output_type": "stream",
     "text": [
      "125\n",
      "\\#\n",
      "ana\n"
     ]
    }
   ],
   "source": [
    "# asi se desempaqueta una tupla\n",
    "x,y,z = d\n",
    "print(x)\n",
    "print(y)\n",
    "print(z)"
   ]
  },
  {
   "cell_type": "code",
   "execution_count": 37,
   "metadata": {},
   "outputs": [
    {
     "data": {
      "text/plain": [
       "(6, 4)"
      ]
     },
     "execution_count": 37,
     "metadata": {},
     "output_type": "execute_result"
    }
   ],
   "source": [
    "len(lista), len(tupla)"
   ]
  },
  {
   "cell_type": "code",
   "execution_count": 38,
   "metadata": {},
   "outputs": [
    {
     "data": {
      "text/plain": [
       "True"
      ]
     },
     "execution_count": 38,
     "metadata": {},
     "output_type": "execute_result"
    }
   ],
   "source": [
    "2 in lista"
   ]
  },
  {
   "cell_type": "code",
   "execution_count": 40,
   "metadata": {},
   "outputs": [
    {
     "name": "stdout",
     "output_type": "stream",
     "text": [
      "[0, 1, 2, 3, 4, 5, 6, 7, 8, 9]\n",
      "[0, 1, 2, 3, 4, 5, 6, 7, 8, 9]\n",
      "[0, 1, 2, 3]\n",
      "[0, 2, 4, 6, 8]\n",
      "[9, 8, 7, 6, 5, 4, 3, 2, 1, 0]\n",
      "[9, 7, 5, 3, 1]\n"
     ]
    }
   ],
   "source": [
    "a = [0, 1, 2, 3, 4, 5, 6, 7, 8, 9]\n",
    "print(a)  \n",
    "print(a[0:10:1]) # otra forma de crear el vector\n",
    "print(a[:4] )  # Imprime desde el primero hasta el cuarto elemento\n",
    "print(a[::2])  # Imprime desde el comienzo al final, en saltos de 2\n",
    "print(a[::-1]) # Revierte la lista\n",
    "print(a[::-2]) # Revierte la lista"
   ]
  },
  {
   "cell_type": "markdown",
   "metadata": {},
   "source": [
    "## Diccionarios\n",
    "es la forma mas avanzada para manipular datos, cada elemento tiene una llave y un valor, se crean usando {llave:valor} o con dict()"
   ]
  },
  {
   "cell_type": "code",
   "execution_count": 75,
   "metadata": {},
   "outputs": [
    {
     "name": "stdout",
     "output_type": "stream",
     "text": [
      "{'nombre': 'pablo', 'edad': 28, 'curso(s)': ['python', 'c', 'openacc']}\n",
      "{'nombre': 'elver', 'apellido': 'galarga', 'edad': 23}\n",
      "{'a': 1, 'b': '2', 'c': 3.0, 'd': 1j}\n"
     ]
    }
   ],
   "source": [
    "dic = {'nombre': 'pablo', 'edad' : 28, 'curso(s)' : ['python', 'c', 'openacc']} # creacion del diccionario de manera normal\n",
    "dic2 = dict(nombre = 'elver', apellido = 'galarga', edad = 23) # creacion del diccionario usando el metodo dict()\n",
    "dic3 = dict(zip('abcd',[1,'2',3.0,1j])) # creacion del diccionario usando dict() y zip()\n",
    "print(dic)\n",
    "print(dic2)\n",
    "print(dic3)"
   ]
  },
  {
   "cell_type": "code",
   "execution_count": 76,
   "metadata": {},
   "outputs": [
    {
     "name": "stdout",
     "output_type": "stream",
     "text": [
      "['python', 'c', 'openacc']\n",
      "dict_items([('nombre', 'elver'), ('apellido', 'galarga'), ('edad', 23)])\n",
      "dict_keys(['a', 'b', 'c', 'd'])\n",
      "dict_values([1, '2', 3.0, 1j])\n",
      "{'a': 1, 'b': '2', 'c': 3.0, 'd': 1j}\n",
      "{}\n",
      "{'alfabeto': 1, 'bienes': 1, 'comida': 1}\n",
      "pablo\n",
      "23\n",
      "1\n",
      "{'alfabeto': 1, 'bienes': 1, 'comida': 1, 'e': 6j}\n",
      "None\n"
     ]
    }
   ],
   "source": [
    "print(dic['curso(s)'])\n",
    "print(dic2.items())\n",
    "print(dic3.keys())\n",
    "print(dic3.values())\n",
    "dic4 = dic3.copy()\n",
    "print(dic4)\n",
    "dic3.clear()\n",
    "print(dic3)\n",
    "dic3 = dict.fromkeys(['alfabeto','bienes','comida'], 1)\n",
    "print(dic3)\n",
    "print(dic.get('nombre'))\n",
    "print(dic2.pop('edad'))\n",
    "print(dic3.setdefault('alfabeto'))\n",
    "dic3.setdefault('e', 6j)\n",
    "print(dic3)\n",
    "print(dic4.update(dic))"
   ]
  },
  {
   "cell_type": "code",
   "execution_count": 53,
   "metadata": {},
   "outputs": [
    {
     "name": "stdout",
     "output_type": "stream",
     "text": [
      "{'nombre': 'andres', 'edad': 28, 'curso(s)': ['python', 'c', 'openacc']}\n",
      "{'nombre': 'andres', 'edad': 28, 'curso(s)': ['python', 'c', 'openacc'], '# favoritos': [1, 2, 5, 7, 11]}\n",
      "{'nombre': 'andres', 'edad': 28, 'curso(s)': ['python', 'c', 'openacc'], '# favoritos': [1, 2, 5, 7, 11], 'celular': 'j8'}\n",
      "{'nombre': 'andres', 'edad': 28, 'curso(s)': ['python', 'c', 'openacc'], '# favoritos': [1, 2, 5, 7, 11]}\n"
     ]
    }
   ],
   "source": [
    "dic['nombre'] = 'andres' # se cambia el valor de nombre\n",
    "print(dic)\n",
    "dic['# favoritos'] = [1,2,5,7,11] # se agrega un elemento al diccionario\n",
    "print(dic)\n",
    "dic['celular'] = 'j8'\n",
    "print(dic)\n",
    "del(dic['celular']) # eliminacion de un elemento del diccionario\n",
    "print(dic)"
   ]
  },
  {
   "cell_type": "code",
   "execution_count": null,
   "metadata": {},
   "outputs": [],
   "source": []
  }
 ],
 "metadata": {
  "kernelspec": {
   "display_name": "Python 3",
   "language": "python",
   "name": "python3"
  },
  "language_info": {
   "codemirror_mode": {
    "name": "ipython",
    "version": 3
   },
   "file_extension": ".py",
   "mimetype": "text/x-python",
   "name": "python",
   "nbconvert_exporter": "python",
   "pygments_lexer": "ipython3",
   "version": "3.7.1"
  }
 },
 "nbformat": 4,
 "nbformat_minor": 2
}
