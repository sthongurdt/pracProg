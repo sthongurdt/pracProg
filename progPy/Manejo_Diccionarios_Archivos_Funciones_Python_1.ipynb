{
 "cells": [
  {
   "cell_type": "markdown",
   "metadata": {},
   "source": [
    "# Imports"
   ]
  },
  {
   "cell_type": "code",
   "execution_count": 1,
   "metadata": {},
   "outputs": [],
   "source": [
    "import random"
   ]
  },
  {
   "cell_type": "markdown",
   "metadata": {},
   "source": [
    "# Como escribir un archivo"
   ]
  },
  {
   "cell_type": "code",
   "execution_count": 2,
   "metadata": {},
   "outputs": [],
   "source": [
    "filename = \"prb.txt\" # Nombre del archivo a escribirse\n",
    "outfile = open(filename, \"w\") # se usa open para escribir un archivo\n",
    "for number in range(1, 100):\n",
    "    square = number * number\n",
    "    outfile.write(str(square) + \",\")\n",
    "outfile.close()"
   ]
  },
  {
   "cell_type": "markdown",
   "metadata": {},
   "source": [
    "# Forma alternativa de escribir un archivo"
   ]
  },
  {
   "cell_type": "code",
   "execution_count": 3,
   "metadata": {},
   "outputs": [],
   "source": [
    "filename2 = \"prb2.txt\"\n",
    "with open(filename2, 'w') as md:\n",
    "    for number in range(1, 100):\n",
    "        square = number * number\n",
    "        md.write(str(square) + \",\")\n",
    "md.close()"
   ]
  },
  {
   "cell_type": "markdown",
   "metadata": {},
   "source": [
    "# Como leer un archivo"
   ]
  },
  {
   "cell_type": "code",
   "execution_count": 4,
   "metadata": {},
   "outputs": [
    {
     "name": "stdout",
     "output_type": "stream",
     "text": [
      "1,4,9\n",
      "Cantidad de caracteres: 452\n"
     ]
    }
   ],
   "source": [
    "readfile = open(filename, \"r\")  # se usa open para leer un archivo\n",
    "contenido = readfile.read()\n",
    "print(contenido[:5])            # mostrar los primeros 5 caracteres\n",
    "num_char = len(contenido)\n",
    "print(\"Cantidad de caracteres: {}\".format(num_char))\n",
    "readfile.close()"
   ]
  },
  {
   "cell_type": "code",
   "execution_count": 5,
   "metadata": {},
   "outputs": [
    {
     "name": "stdout",
     "output_type": "stream",
     "text": [
      "Cantidad de lineas: 1\n"
     ]
    }
   ],
   "source": [
    "readfile = open(filename, \"r\")\n",
    "lineas = readfile.readlines()\n",
    "num_lines = len(lineas)\n",
    "print(\"Cantidad de lineas: {}\".format(num_lines))\n",
    "readfile.close()"
   ]
  },
  {
   "cell_type": "markdown",
   "metadata": {},
   "source": [
    "# Forma alternativa de leer un archivo"
   ]
  },
  {
   "cell_type": "code",
   "execution_count": 6,
   "metadata": {},
   "outputs": [
    {
     "name": "stdout",
     "output_type": "stream",
     "text": [
      "1 2 3\n",
      "\n",
      "4 5 6\n",
      "Cantidad de lineas: 0\n"
     ]
    }
   ],
   "source": [
    "with open('prb3.txt', 'r') as md:\n",
    "    for line in md:\n",
    "        print(line)\n",
    "    lines = md.readlines()\n",
    "    num_lines = len(lines)\n",
    "    print(\"Cantidad de lineas: {}\".format(num_lines))\n",
    "md.close()"
   ]
  },
  {
   "cell_type": "markdown",
   "metadata": {},
   "source": [
    "# Como leer un CSV"
   ]
  },
  {
   "cell_type": "code",
   "execution_count": 7,
   "metadata": {
    "scrolled": true
   },
   "outputs": [
    {
     "name": "stdout",
     "output_type": "stream",
     "text": [
      "['Name', 'score', 'grade']\n",
      "Jamal: 98; A+\n",
      "Eloise: 87; B+\n",
      "Madeline: 99; A+\n",
      "Wei: 94; A\n"
     ]
    }
   ],
   "source": [
    "fileconnection = open(\"prb.csv\", 'r')\n",
    "lines = fileconnection.readlines()\n",
    "header = lines[0]\n",
    "field_names = header.strip().split(',')\n",
    "print(field_names)\n",
    "for row in lines[1:]:\n",
    "    vals = row.strip().split(',')\n",
    "    print(\"{}: {}; {}\".format(vals[0],vals[1],vals[2]))"
   ]
  },
  {
   "cell_type": "markdown",
   "metadata": {},
   "source": [
    "# Como escribir un CSV"
   ]
  },
  {
   "cell_type": "code",
   "execution_count": 8,
   "metadata": {},
   "outputs": [
    {
     "name": "stdout",
     "output_type": "stream",
     "text": [
      "['Name', 'Age', 'Sport']\n",
      "John Aalberg: 31; Cross Country Skiing\n",
      "Minna Maarit Aalto: 30; Sailing\n",
      "Win Valdemar Aaltonen: 54; Art Competitions\n",
      "Wakako Abe: 18; Cycling\n"
     ]
    }
   ],
   "source": [
    "olympians = [(\"John Aalberg\", '31', \"Cross Country Skiing\"),\n",
    "             (\"Minna Maarit Aalto\", '30', \"Sailing\"),\n",
    "             (\"Win Valdemar Aaltonen\", '54', \"Art Competitions\"),\n",
    "             (\"Wakako Abe\", '18', \"Cycling\")]\n",
    "\n",
    "outfile = open(\"olympians.csv\", \"w\")\n",
    "# Salida de la fila cabecera\n",
    "outfile.write('Name,Age,Sport')\n",
    "outfile.write('\\n')\n",
    "# Salida para cada fila\n",
    "for olympian in olympians:\n",
    "    row_string = '{},{},{}'.format(olympian[0], olympian[1], olympian[2])\n",
    "    outfile.write(row_string)\n",
    "    outfile.write('\\n')\n",
    "outfile.close()\n",
    "\n",
    "# Lectura del archivo creado\n",
    "fileconnection = open(\"olympians.csv\", 'r')\n",
    "lines = fileconnection.readlines()\n",
    "header = lines[0]\n",
    "field_names = header.strip().split(',')\n",
    "print(field_names)\n",
    "for row in lines[1:]:\n",
    "    vals = row.strip().split(',')\n",
    "    print(\"{}: {}; {}\".format(vals[0],vals[1],vals[2]))"
   ]
  },
  {
   "cell_type": "code",
   "execution_count": null,
   "metadata": {},
   "outputs": [],
   "source": []
  }
 ],
 "metadata": {
  "kernelspec": {
   "display_name": "Python 3",
   "language": "python",
   "name": "python3"
  },
  "language_info": {
   "codemirror_mode": {
    "name": "ipython",
    "version": 3
   },
   "file_extension": ".py",
   "mimetype": "text/x-python",
   "name": "python",
   "nbconvert_exporter": "python",
   "pygments_lexer": "ipython3",
   "version": "3.8.5"
  }
 },
 "nbformat": 4,
 "nbformat_minor": 4
}
