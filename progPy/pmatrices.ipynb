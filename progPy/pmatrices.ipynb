{
 "cells": [
  {
   "cell_type": "markdown",
   "metadata": {},
   "source": [
    "# Prueba de Matrices"
   ]
  },
  {
   "cell_type": "markdown",
   "metadata": {},
   "source": [
    "se importan las librerias"
   ]
  },
  {
   "cell_type": "code",
   "execution_count": 18,
   "metadata": {},
   "outputs": [],
   "source": [
    "import numpy as np\n",
    "from pylab import *\n",
    "import matplotlib.pyplot as plt\n",
    "import math as mt\n",
    "from random import randint, uniform, random"
   ]
  },
  {
   "cell_type": "markdown",
   "metadata": {},
   "source": [
    "se crea un vector de coordenadas"
   ]
  },
  {
   "cell_type": "code",
   "execution_count": 19,
   "metadata": {},
   "outputs": [
    {
     "data": {
      "text/plain": [
       "array([0, 1, 2, 3, 4, 5, 6, 7, 8, 9])"
      ]
     },
     "execution_count": 19,
     "metadata": {},
     "output_type": "execute_result"
    }
   ],
   "source": [
    "mcoor = np.array(range(10))\n",
    "mcoor"
   ]
  },
  {
   "cell_type": "markdown",
   "metadata": {},
   "source": [
    "el vector se convierte en matriz"
   ]
  },
  {
   "cell_type": "code",
   "execution_count": 20,
   "metadata": {},
   "outputs": [
    {
     "data": {
      "text/plain": [
       "array([[0, 1],\n",
       "       [2, 3],\n",
       "       [4, 5],\n",
       "       [6, 7],\n",
       "       [8, 9]])"
      ]
     },
     "execution_count": 20,
     "metadata": {},
     "output_type": "execute_result"
    }
   ],
   "source": [
    "mcoor = mcoor.reshape(5,2)\n",
    "mcoor"
   ]
  },
  {
   "cell_type": "markdown",
   "metadata": {},
   "source": [
    "se grafica la matriz"
   ]
  },
  {
   "cell_type": "code",
   "execution_count": 21,
   "metadata": {},
   "outputs": [
    {
     "data": {
      "text/plain": [
       "[<matplotlib.lines.Line2D at 0x7f7c84af5208>]"
      ]
     },
     "execution_count": 21,
     "metadata": {},
     "output_type": "execute_result"
    },
    {
     "data": {
      "image/png": "[encoded data removed]",
      "text/plain": [
       "<Figure size 432x288 with 1 Axes>"
      ]
     },
     "metadata": {
      "needs_background": "light"
     },
     "output_type": "display_data"
    }
   ],
   "source": [
    "x = mcoor[:,0] # Seleccion de la primera columna\n",
    "y = mcoor[:,1] # Seleccion de la segunda columna\n",
    "plot(x,y,'b.')"
   ]
  },
  {
   "cell_type": "markdown",
   "metadata": {},
   "source": [
    "distancia entre puntos"
   ]
  },
  {
   "cell_type": "code",
   "execution_count": 22,
   "metadata": {},
   "outputs": [
    {
     "data": {
      "text/plain": [
       "(array([0, 1]), array([2, 3]), array([4, 5]), array([6, 7]), array([8, 9]))"
      ]
     },
     "execution_count": 22,
     "metadata": {},
     "output_type": "execute_result"
    }
   ],
   "source": [
    "a = mcoor[0,:]\n",
    "b = mcoor[1,:]\n",
    "c = mcoor[2,:]\n",
    "d = mcoor[3,:]\n",
    "e = mcoor[4,:]\n",
    "a, b, c, d, e"
   ]
  },
  {
   "cell_type": "code",
   "execution_count": 23,
   "metadata": {},
   "outputs": [
    {
     "data": {
      "text/plain": [
       "(2.8284271247461903,\n",
       " 2.8284271247461903,\n",
       " 2.8284271247461903,\n",
       " 2.8284271247461903,\n",
       " 11.313708498984761,\n",
       " 5.656854249492381)"
      ]
     },
     "execution_count": 23,
     "metadata": {},
     "output_type": "execute_result"
    }
   ],
   "source": [
    "AaB = mt.sqrt((a[0]-b[0])**2+(a[1]-b[1])**2) #Distancia del punto A a B\n",
    "BaC = mt.sqrt((b[0]-c[0])**2+(b[1]-c[1])**2) #Distancia del punto B a C\n",
    "CaD = mt.sqrt((c[0]-d[0])**2+(c[1]-d[1])**2) #Distancia del punto C a D\n",
    "DaE = mt.sqrt((d[0]-e[0])**2+(d[1]-e[1])**2) #Distancia del punto D a E\n",
    "EaA = mt.sqrt((e[0]-a[0])**2+(e[1]-a[1])**2) #Distancia del punto E a A\n",
    "DaB = mt.sqrt((d[0]-b[0])**2+(d[1]-b[1])**2) #Distancia del punto D a B\n",
    "AaB, BaC, CaD, DaE, EaA, DaB"
   ]
  },
  {
   "cell_type": "code",
   "execution_count": 51,
   "metadata": {},
   "outputs": [
    {
     "data": {
      "text/plain": [
       "[<matplotlib.lines.Line2D at 0x7f7c8483e438>,\n",
       " <matplotlib.lines.Line2D at 0x7f7c8483e550>,\n",
       " <matplotlib.lines.Line2D at 0x7f7c8483e908>,\n",
       " <matplotlib.lines.Line2D at 0x7f7c8483ec50>,\n",
       " <matplotlib.lines.Line2D at 0x7f7c8483ef98>]"
      ]
     },
     "execution_count": 51,
     "metadata": {},
     "output_type": "execute_result"
    },
    {
     "data": {
      "image/png": "[encoded data removed]",
      "text/plain": [
       "<Figure size 432x288 with 1 Axes>"
      ]
     },
     "metadata": {
      "needs_background": "light"
     },
     "output_type": "display_data"
    }
   ],
   "source": [
    "plot(a[0],a[1],'b.',b[0],b[1],'rd-',c[0],c[1],'g^',d[0],d[1],'r.',e[0],e[1],'bd')"
   ]
  },
  {
   "cell_type": "code",
   "execution_count": 69,
   "metadata": {},
   "outputs": [
    {
     "name": "stdout",
     "output_type": "stream",
     "text": [
      "[ 1  2  3  4  5  6  7  8  9 10 11 12 13 14 15]\n",
      "(1, -1, 3, 5, -2, 2, 3, 6, 7, 8, 10, 9, 14, 13, 15)\n"
     ]
    },
    {
     "data": {
      "text/plain": [
       "[<matplotlib.lines.Line2D at 0x7f7c842b5780>]"
      ]
     },
     "execution_count": 69,
     "metadata": {},
     "output_type": "execute_result"
    },
    {
     "data": {
      "image/png": "[encoded data removed]",
      "text/plain": [
       "<Figure size 432x288 with 1 Axes>"
      ]
     },
     "metadata": {
      "needs_background": "light"
     },
     "output_type": "display_data"
    }
   ],
   "source": [
    "##crormix = (1,2,3,4,5,6,7,8,9,10,11,12,13,14,15)\n",
    "##crormix = np.arange(15)\n",
    "crormix = np.arange(1,16,1)\n",
    "crormiy = (1,-1,3,5,-2,2,3,6,7,8,10,9,14,13,15)\n",
    "print(crormix)\n",
    "print(crormiy)\n",
    "plot(crormix, crormix, \"o-\")\n",
    "plot(crormix, crormiy, lw=5, ls=\"-\",c='y', marker='o', ms=10, mfc='red')"
   ]
  },
  {
   "cell_type": "code",
   "execution_count": null,
   "metadata": {},
   "outputs": [],
   "source": []
  },
  {
   "cell_type": "code",
   "execution_count": null,
   "metadata": {},
   "outputs": [],
   "source": []
  }
 ],
 "metadata": {
  "kernelspec": {
   "display_name": "Python 3",
   "language": "python",
   "name": "python3"
  },
  "language_info": {
   "codemirror_mode": {
    "name": "ipython",
    "version": 3
   },
   "file_extension": ".py",
   "mimetype": "text/x-python",
   "name": "python",
   "nbconvert_exporter": "python",
   "pygments_lexer": "ipython3",
   "version": "3.7.1"
  }
 },
 "nbformat": 4,
 "nbformat_minor": 2
}
