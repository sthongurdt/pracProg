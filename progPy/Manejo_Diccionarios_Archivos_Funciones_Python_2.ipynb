{
 "cells": [
  {
   "cell_type": "markdown",
   "metadata": {},
   "source": [
    "# Como crear y llenar un diccionario simple"
   ]
  },
  {
   "cell_type": "code",
   "execution_count": 36,
   "metadata": {},
   "outputs": [
    {
     "name": "stdout",
     "output_type": "stream",
     "text": [
      "Tipo: <class 'dict'>\n",
      "Contenido: {'one': 'uno', 'two': 'dos', 'three': 'tres'}\n"
     ]
    }
   ],
   "source": [
    "ing2esp = {}   # asi se crea un diccionario vacio\n",
    "ing2esp['one'] = 'uno' # asi se crea una llave y su contenido\n",
    "ing2esp['two'] = 'dos'\n",
    "ing2esp['three'] = 'tres'\n",
    "print('Tipo: {}\\nContenido: {}'.format(type(ing2esp),ing2esp))"
   ]
  },
  {
   "cell_type": "markdown",
   "metadata": {},
   "source": [
    "# Como se puede acceder a un diccionario."
   ]
  },
  {
   "cell_type": "code",
   "execution_count": 35,
   "metadata": {},
   "outputs": [
    {
     "name": "stdout",
     "output_type": "stream",
     "text": [
      "Tipo: <class 'dict'> \n",
      "Contenido: {'one': 'uno', 'two': 'dos', 'three': 'tres'}\n",
      "---------------------------------------------------\n",
      "Valor de la variable: dos\n",
      "---------------------------------------------------\n",
      "Valor de la llave: uno\n",
      "---------------------------------------------------\n",
      "Tipo: <class 'dict'> \n",
      "Contenido: {'oro': 33, 'plata': 17, 'bronce': 12} \n",
      "Tipo: <class 'dict'> \n",
      "Contenido: {'oro': 7, 'plata': 8, 'bronce': 6}\n"
     ]
    }
   ],
   "source": [
    "ing2esp2 = {'three': 'tres', 'two': 'dos', 'one': 'uno'} # asi se crea un diccionario\n",
    "print('Tipo: {} \\nContenido: {}'.format(type(ing2esp),ing2esp))\n",
    "print('---------------------------------------------------')\n",
    "val = ing2esp2['two'] # Forma de asignar a una variable el valor de una llave \n",
    "print('Valor de la variable: {}'.format(val))\n",
    "print('---------------------------------------------------')\n",
    "print('Valor de la llave: {}'.format(ing2esp2['one'])) # Forma de ver el contenido de una llave\n",
    "print('---------------------------------------------------')\n",
    "medallas = {'oro':33, 'plata':17, 'bronce':12}\n",
    "medallas2 = {'oro':7}\n",
    "medallas2['plata'] = 8\n",
    "medallas2['bronce'] = 6\n",
    "print('Tipo: {} \\nContenido: {} \\nTipo: {} \\nContenido: {}'.format(type(medallas), medallas, type(medallas2), medallas2))"
   ]
  },
  {
   "cell_type": "markdown",
   "metadata": {},
   "source": [
    "# Operaciones con diccionarios"
   ]
  },
  {
   "cell_type": "code",
   "execution_count": 24,
   "metadata": {},
   "outputs": [
    {
     "name": "stdout",
     "output_type": "stream",
     "text": [
      "{'manzanas': 430, 'bananos': 312, 'naranjas': 525}\n"
     ]
    }
   ],
   "source": [
    "inventario = {'manzanas': 430, 'bananos': 312, 'naranjas': 525, 'peras': 217}\n",
    "del inventario['peras']\n",
    "print(inventario)"
   ]
  },
  {
   "cell_type": "code",
   "execution_count": 25,
   "metadata": {},
   "outputs": [
    {
     "name": "stdout",
     "output_type": "stream",
     "text": [
      "{'manzanas': 430, 'bananos': 312, 'naranjas': 525, 'peras': 0}\n"
     ]
    }
   ],
   "source": [
    "inventario = {'manzanas': 430, 'bananos': 312, 'naranjas': 525, 'peras': 217}\n",
    "inventario['peras'] = 0\n",
    "print(inventario)"
   ]
  },
  {
   "cell_type": "code",
   "execution_count": 27,
   "metadata": {},
   "outputs": [
    {
     "name": "stdout",
     "output_type": "stream",
     "text": [
      "{'manzanas': 630, 'bananos': 312, 'naranjas': 525, 'peras': 217}\n"
     ]
    }
   ],
   "source": [
    "inventario = {'manzanas': 430, 'bananos': 312, 'naranjas': 525, 'peras': 217}\n",
    "inventario['manzanas'] = inventario['manzanas'] + 200\n",
    "print(inventario)"
   ]
  },
  {
   "cell_type": "code",
   "execution_count": 28,
   "metadata": {},
   "outputs": [
    {
     "name": "stdout",
     "output_type": "stream",
     "text": [
      "4\n"
     ]
    }
   ],
   "source": [
    "inventario = {'manzanas': 430, 'bananos': 312, 'naranjas': 525, 'peras': 217}\n",
    "num_elementos = len(inventario)\n",
    "print(num_elementos)"
   ]
  },
  {
   "cell_type": "code",
   "execution_count": 31,
   "metadata": {},
   "outputs": [
    {
     "name": "stdout",
     "output_type": "stream",
     "text": [
      "18\n"
     ]
    }
   ],
   "source": [
    "diccionario = {\"gatos\":12, \"perros\":6, \"elefantes\":23}\n",
    "diccionario[\"ratas\"] = diccionario[\"gatos\"] + diccionario[\"perros\"]\n",
    "print(diccionario[\"ratas\"])"
   ]
  },
  {
   "cell_type": "markdown",
   "metadata": {},
   "source": [
    "# Metodos de los diccionarios"
   ]
  },
  {
   "cell_type": "code",
   "execution_count": 34,
   "metadata": {},
   "outputs": [
    {
     "name": "stdout",
     "output_type": "stream",
     "text": [
      "La llave es manzanas y valor es 430\n",
      "La llave es bananos y valor es 312\n",
      "La llave es naranjas y valor es 525\n",
      "La llave es peras y valor es 217\n",
      "---------------------------------------------------\n",
      "Las llaves son: ['manzanas', 'bananos', 'naranjas', 'peras']\n",
      "---------------------------------------------------\n",
      "La llave es manzanas\n",
      "La llave es bananos\n",
      "La llave es naranjas\n",
      "La llave es peras\n"
     ]
    }
   ],
   "source": [
    "inventario = {'manzanas': 430, 'bananos': 312, 'naranjas': 525, 'peras': 217}\n",
    "for llave in inventario.keys():\n",
    "    print('La llave es {} y valor es {}'.format(llave, inventario[llave]))\n",
    "print('---------------------------------------------------')\n",
    "llaves = list(inventario.keys()) # Forma de convertir la llaves en una lista\n",
    "print('Las llaves son: {}'.format(llaves))\n",
    "print('---------------------------------------------------')\n",
    "for llave in inventario: # otra forma de pedir las llaves\n",
    "    print('La llave es {}'.format(llave))"
   ]
  },
  {
   "cell_type": "code",
   "execution_count": 40,
   "metadata": {},
   "outputs": [
    {
     "name": "stdout",
     "output_type": "stream",
     "text": [
      "Los valores del diccionario son: [430, 312, 525, 217]\n",
      "Los elementos del diccionario son: [('manzanas', 430), ('bananos', 312), ('naranjas', 525), ('peras', 217)]\n"
     ]
    }
   ],
   "source": [
    "inventario = {'manzanas': 430, 'bananos': 312, 'naranjas': 525, 'peras': 217}\n",
    "print('Los valores del diccionario son:',list(inventario.values())) # crea una lista de los valores del diccionario\n",
    "print('Los elementos del diccionario son:',list(inventario.items())) # crea una lista de tuplas del diccionario"
   ]
  },
  {
   "cell_type": "code",
   "execution_count": 47,
   "metadata": {},
   "outputs": [
    {
     "name": "stdout",
     "output_type": "stream",
     "text": [
      "True\n",
      "False\n",
      "312\n"
     ]
    }
   ],
   "source": [
    "inventario = {'manzanas': 430, 'bananos': 312, 'naranjas': 525, 'peras': 217}\n",
    "print('manzanas' in inventario)\n",
    "print('cerezas' in inventario)\n",
    "if 'bananos' in inventario:\n",
    "    print(inventario['bananos'])\n",
    "else:\n",
    "    print('Sin bananos')"
   ]
  },
  {
   "cell_type": "code",
   "execution_count": 52,
   "metadata": {},
   "outputs": [
    {
     "name": "stdout",
     "output_type": "stream",
     "text": [
      "525\n",
      "None\n",
      "99\n"
     ]
    }
   ],
   "source": [
    "inventario = {'manzanas': 430, 'bananos': 312, 'naranjas': 525, 'peras': 217}\n",
    "print(inventario.get('naranjas'))\n",
    "print(inventario.get('fresas'))\n",
    "#print(inventario['fresas'])\n",
    "print(inventario.get('fresas',99)) # el segundo argumento se toma como el valor de la llave"
   ]
  },
  {
   "cell_type": "markdown",
   "metadata": {},
   "source": [
    "# Alias y copiado de diccionarios"
   ]
  },
  {
   "cell_type": "code",
   "execution_count": 56,
   "metadata": {},
   "outputs": [
    {
     "name": "stdout",
     "output_type": "stream",
     "text": [
      "True\n",
      "{'arriba': 'abajo', 'izquierda': 'mal', 'verdadero': 'falso'}\n"
     ]
    }
   ],
   "source": [
    "antonimos = {'arriba': 'abajo', 'izquierda': 'derecha', 'verdadero':'falso'}\n",
    "alias = antonimos\n",
    "print(alias is antonimos) # Comprobamos si apunta a lo mismo\n",
    "alias['izquierda'] = 'mal'\n",
    "print(antonimos)"
   ]
  },
  {
   "cell_type": "markdown",
   "metadata": {},
   "source": [
    "# LLenar diccionarios por acumulacion"
   ]
  },
  {
   "cell_type": "code",
   "execution_count": 1,
   "metadata": {},
   "outputs": [
    {
     "name": "stdout",
     "output_type": "stream",
     "text": [
      "Cantidad de c: 532\n"
     ]
    }
   ],
   "source": [
    "archivo = open('parrafo.txt','r')\n",
    "texto = archivo.read()\n",
    "num_c = 0\n",
    "for iteracion in texto:\n",
    "    if iteracion == 'c':\n",
    "        num_c = num_c + 1\n",
    "print('Cantidad de c: {}'.format(num_c))"
   ]
  },
  {
   "cell_type": "code",
   "execution_count": 3,
   "metadata": {},
   "outputs": [
    {
     "name": "stdout",
     "output_type": "stream",
     "text": [
      "Cantidad de c: 532\n"
     ]
    }
   ],
   "source": [
    "archivo = open('parrafo.txt','r')\n",
    "texto = archivo.read()\n",
    "abcd = {}\n",
    "abcd['c'] = 0\n",
    "for iteracion in texto:\n",
    "    if iteracion == 'c':\n",
    "        abcd['c'] = abcd['c'] + 1\n",
    "print('Cantidad de c: {}'.format(abcd['c']))"
   ]
  },
  {
   "cell_type": "code",
   "execution_count": 4,
   "metadata": {},
   "outputs": [
    {
     "name": "stdout",
     "output_type": "stream",
     "text": [
      "Cantidad de r: 618\n",
      "Cantidad de s: 647\n",
      "Cantidad de t: 500\n"
     ]
    }
   ],
   "source": [
    "archivo = open('parrafo.txt','r')\n",
    "texto = archivo.read()\n",
    "abcd = {}\n",
    "abcd['r'] = 0\n",
    "abcd['s'] = 0\n",
    "abcd['t'] = 0\n",
    "for iteracion in texto:\n",
    "    if iteracion == 'r':\n",
    "        abcd['r'] = abcd['r'] + 1\n",
    "    elif iteracion == 's':\n",
    "        abcd['s'] = abcd['s'] + 1\n",
    "    elif iteracion == 't':\n",
    "        abcd['t'] = abcd['t'] + 1\n",
    "print('Cantidad de r: {}\\nCantidad de s: {}\\nCantidad de t: {}'.format(abcd['r'],abcd['s'],abcd['t']))"
   ]
  },
  {
   "cell_type": "code",
   "execution_count": 4,
   "metadata": {},
   "outputs": [
    {
     "name": "stdout",
     "output_type": "stream",
     "text": [
      "Cantidad de r: 7\n",
      "Cantidad de s: 12\n",
      "Cantidad de t: 23\n",
      "---------------------------------------------\n"
     ]
    }
   ],
   "source": [
    "archivo = open('parrafo.txt','r')\n",
    "texto = archivo.read()\n",
    "abcd = {}\n",
    "for iteracion in texto:\n",
    "    if iteracion not in abcd:\n",
    "        abcd[iteracion] = 0\n",
    "    abcd[iteracion] = abcd[iteracion] + 1\n",
    "print('Cantidad de r: {}\\nCantidad de s: {}\\nCantidad de t: {}'.format(abcd['r'],abcd['s'],abcd['t']))\n",
    "print('---------------------------------------------')\n",
    "#for c in abcd.keys():\n",
    "#    print('Cantidad de {}: {}'.format(c,str(abcd[c])))"
   ]
  },
  {
   "cell_type": "code",
   "execution_count": 3,
   "metadata": {},
   "outputs": [
    {
     "name": "stdout",
     "output_type": "stream",
     "text": [
      "287\n"
     ]
    }
   ],
   "source": [
    "archivo = open('parrafo.txt', 'r')\n",
    "texto = archivo.read()\n",
    "x = {}\n",
    "for c in texto:\n",
    "    if c not in x:\n",
    "        x[c] = 0\n",
    "    x[c] = x[c] + 1\n",
    "\n",
    "valor_letra = {'a': 1, 'b': 3, 'c': 3, 'd': 2, 'e': 1, 'f':4, 'g': 2, 'h':4, 'i':1, 'j':8, 'k':5, 'l':1, 'm':3, 'n':1, 'o':1, 'p':3, 'q':10, 'r':1, 's':1, 't':1, 'u':1, 'v':4, 'w':4, 'x':8, 'y':4, 'z':10}\n",
    "total = 0\n",
    "for y in x:\n",
    "    if y in valor_letra:\n",
    "        total = total + valor_letra[y] * x[y]\n",
    "print(total)"
   ]
  },
  {
   "cell_type": "code",
   "execution_count": 6,
   "metadata": {},
   "outputs": [
    {
     "name": "stdout",
     "output_type": "stream",
     "text": [
      "19\n"
     ]
    }
   ],
   "source": [
    "viaje = {\"North America\": 2, \"Europe\": 8, \"South America\": 3, \"Asia\": 4, \"Africa\":1, \"Polos\": 0, \"Australia\": 1}\n",
    "total = 0\n",
    "for i in viaje:\n",
    "    total = total + viaje[i]\n",
    "print(total)"
   ]
  },
  {
   "cell_type": "code",
   "execution_count": 12,
   "metadata": {},
   "outputs": [
    {
     "name": "stdout",
     "output_type": "stream",
     "text": [
      "x\n",
      "n\n"
     ]
    }
   ],
   "source": [
    "v = \"Beaches are cool places to visit in spring however the Mackinaw Bridge is near. Most people visit Mackinaw later since the island is a cool place to explore.\"\n",
    "v2 = 'iphone and android phones'\n",
    "d = {}\n",
    "d2 = {}\n",
    "for i in v:\n",
    "    if i not in d:\n",
    "        d[i] = 0\n",
    "    d[i] = d[i] + 1\n",
    "llaves = list(d.keys())\n",
    "letra_min_cant = llaves[0]\n",
    "for i in llaves:\n",
    "    if d[i] < d[letra_min_cant]:\n",
    "        letra_min_cant = i\n",
    "print(letra_min_cant)\n",
    "for i in v2:\n",
    "    if i not in d2:\n",
    "        d2[i] = 0\n",
    "    d2[i] = d2[i] + 1\n",
    "llaves2 = list(d2.keys())\n",
    "letra_max_cant = llaves2[0]\n",
    "for i in llaves2:\n",
    "    if d2[i] > d2[letra_max_cant]:\n",
    "        letra_max_cant = i\n",
    "print(letra_max_cant)"
   ]
  },
  {
   "cell_type": "code",
   "execution_count": null,
   "metadata": {},
   "outputs": [],
   "source": []
  }
 ],
 "metadata": {
  "kernelspec": {
   "display_name": "Python 3",
   "language": "python",
   "name": "python3"
  },
  "language_info": {
   "codemirror_mode": {
    "name": "ipython",
    "version": 3
   },
   "file_extension": ".py",
   "mimetype": "text/x-python",
   "name": "python",
   "nbconvert_exporter": "python",
   "pygments_lexer": "ipython3",
   "version": "3.8.5"
  }
 },
 "nbformat": 4,
 "nbformat_minor": 4
}
